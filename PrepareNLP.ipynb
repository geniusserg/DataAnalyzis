{
  "cells": [
    {
      "cell_type": "markdown",
      "metadata": {
        "id": "TA2eWKu3PuYJ"
      },
      "source": [
        "Лаба 2 NLP\n",
        "\n"
      ]
    },
    {
      "cell_type": "code",
      "execution_count": 1,
      "metadata": {
        "id": "47pm1cnmMjNK",
        "colab": {
          "base_uri": "https://localhost:8080/"
        },
        "outputId": "94d559a3-4536-4844-94e5-b6cc2c5d2886"
      },
      "outputs": [
        {
          "output_type": "stream",
          "name": "stdout",
          "text": [
            "[nltk_data] Downloading package stopwords to /root/nltk_data...\n",
            "[nltk_data]   Package stopwords is already up-to-date!\n",
            "[nltk_data] Downloading package punkt to /root/nltk_data...\n",
            "[nltk_data]   Package punkt is already up-to-date!\n",
            "[nltk_data] Downloading package averaged_perceptron_tagger to\n",
            "[nltk_data]     /root/nltk_data...\n",
            "[nltk_data]   Package averaged_perceptron_tagger is already up-to-\n",
            "[nltk_data]       date!\n",
            "[nltk_data] Downloading package wordnet to /root/nltk_data...\n",
            "[nltk_data]   Package wordnet is already up-to-date!\n",
            "[nltk_data] Downloading package stopwords to /root/nltk_data...\n",
            "[nltk_data]   Package stopwords is already up-to-date!\n"
          ]
        },
        {
          "output_type": "execute_result",
          "data": {
            "text/plain": [
              "True"
            ]
          },
          "metadata": {},
          "execution_count": 1
        }
      ],
      "source": [
        "\n",
        "from sklearn.cluster import KMeans\n",
        "import matplotlib.pyplot as plt\n",
        "import re\n",
        "import string \n",
        "from keras.preprocessing.text import Tokenizer\n",
        "from keras.preprocessing.sequence import pad_sequences\n",
        "from sklearn.preprocessing import LabelEncoder\n",
        "from sklearn.metrics import classification_report\n",
        "from sklearn.preprocessing import StandardScaler\n",
        "from sklearn.decomposition import PCA\n",
        "from sklearn.feature_extraction.text import TfidfVectorizer\n",
        "import nltk\n",
        "from nltk.corpus import stopwords\n",
        "from nltk.tokenize import word_tokenize\n",
        "from nltk.stem.wordnet import WordNetLemmatizer\n",
        "from nltk.corpus import wordnet\n",
        "nltk.download('stopwords')\n",
        "nltk.download('punkt')\n",
        "nltk.download('averaged_perceptron_tagger')\n",
        "nltk.download('wordnet')\n",
        "nltk.download('stopwords')"
      ]
    },
    {
      "cell_type": "code",
      "execution_count": 2,
      "metadata": {
        "id": "RLi_dEMXTaFa"
      },
      "outputs": [],
      "source": [
        "import urllib.request\n",
        "import pandas as pd\n",
        "urllib.request.urlretrieve(\"https://raw.githubusercontent.com/mhjabreel/CharCnn_Keras/master/data/ag_news_csv/train.csv\", \"train.csv\")\n",
        "urllib.request.urlretrieve(\"https://raw.githubusercontent.com/mhjabreel/CharCnn_Keras/master/data/ag_news_csv/test.csv\", \"test.csv\")\n",
        "class_labels = ['World','Sports','Business','Sci/Tech']\n",
        "df = pd.read_csv('train.csv', encoding='latin-1', names=[\"Class\", \"Title\", \"Message\"])\n",
        "df_test = pd.read_csv('test.csv', encoding='latin-1', names=[\"Class\", \"Title\", \"Message\"])"
      ]
    },
    {
      "cell_type": "code",
      "execution_count": 6,
      "metadata": {
        "colab": {
          "base_uri": "https://localhost:8080/"
        },
        "id": "BdijOMBZVQVK",
        "outputId": "715fe565-b83a-4219-ddee-6a2dd804eeb8"
      },
      "outputs": [
        {
          "output_type": "stream",
          "name": "stdout",
          "text": [
            "<class 'pandas.core.frame.DataFrame'>\n",
            "RangeIndex: 120000 entries, 0 to 119999\n",
            "Data columns (total 3 columns):\n",
            " #   Column   Non-Null Count   Dtype \n",
            "---  ------   --------------   ----- \n",
            " 0   Class    120000 non-null  int64 \n",
            " 1   Title    120000 non-null  object\n",
            " 2   Message  120000 non-null  object\n",
            "dtypes: int64(1), object(2)\n",
            "memory usage: 2.7+ MB\n"
          ]
        }
      ],
      "source": [
        "print(df.head(n=10))\n",
        "print(df.info())\n"
      ]
    },
    {
      "cell_type": "code",
      "source": [
        ""
      ],
      "metadata": {
        "id": "MD0IAH6kdr_Z"
      },
      "execution_count": null,
      "outputs": []
    },
    {
      "cell_type": "markdown",
      "metadata": {
        "id": "Gbm8npc1bmMM"
      },
      "source": [
        "Опишем классы и посмотрим их распределение"
      ]
    },
    {
      "cell_type": "code",
      "source": [
        "plt.pie(df[\"Class\"].value_counts(), labels=class_labels)\n",
        "plt.title(\"Распределение классов по датасету\")"
      ],
      "metadata": {
        "colab": {
          "base_uri": "https://localhost:8080/",
          "height": 282
        },
        "id": "UYxI_ckjdtHk",
        "outputId": "eaaa2238-8aae-48fe-9f20-e1006667b984"
      },
      "execution_count": 17,
      "outputs": [
        {
          "output_type": "execute_result",
          "data": {
            "text/plain": [
              "Text(0.5, 1.0, 'Распределение классов по датасету')"
            ]
          },
          "metadata": {},
          "execution_count": 17
        },
        {
          "output_type": "display_data",
          "data": {
            "image/png": "[encoded data removed]",
            "text/plain": [
              "<Figure size 432x288 with 1 Axes>"
            ]
          },
          "metadata": {}
        }
      ]
    },
    {
      "cell_type": "markdown",
      "source": [
        "Провизуализируем длины сообщений "
      ],
      "metadata": {
        "id": "8mh1u6hJe0YG"
      }
    },
    {
      "cell_type": "code",
      "source": [
        "df[\"Length\"] = df[\"Message\"].map(lambda x: len(x.split(' ')))\n",
        "plt.bar(x = df[\"Length\"].value_counts().keys(), height=df[\"Length\"].value_counts().values)\n",
        "plt.title(\"РАспределние длин сообщения (кол-во сообщений\\длина)\")\n",
        "print(f\"Минимальная длина сообщения: {df['Length'].value_counts().keys()[0]}\")\n",
        "print(f\"Максимальная длина сообщения: {df['Length'].value_counts().keys()[-1]}\")"
      ],
      "metadata": {
        "colab": {
          "base_uri": "https://localhost:8080/",
          "height": 316
        },
        "id": "7ptqvd0qfDbv",
        "outputId": "8f1185ef-0196-4307-a92a-703e35cae782"
      },
      "execution_count": 42,
      "outputs": [
        {
          "output_type": "stream",
          "name": "stdout",
          "text": [
            "Минимальная длина сообщения: 30\n",
            "Максимальная длина сообщения: 153\n"
          ]
        },
        {
          "output_type": "display_data",
          "data": {
            "image/png": "[encoded data removed]",
            "text/plain": [
              "<Figure size 432x288 with 1 Axes>"
            ]
          },
          "metadata": {
            "needs_background": "light"
          }
        }
      ]
    },
    {
      "cell_type": "markdown",
      "source": [
        "Теперь построим таблицу распределения слов по классам и таблицу самых встречаемых и самых редких слов\n"
      ],
      "metadata": {
        "id": "fzJsIi5Lg7gi"
      }
    },
    {
      "cell_type": "code",
      "source": [
        "def words_info(treshold = 9999999999):\n",
        "  result = []\n",
        "  for y in range(1, 5):\n",
        "    t = dict()\n",
        "    for i in df[df[\"Class\"] == y][\"Message\"].map(lambda x: x.split(' ')):\n",
        "      for j in i:\n",
        "        if j not in t.keys():\n",
        "          t[j] = 0\n",
        "        t[j] += 1\n",
        "    t = dict(sorted(t.items(), key=lambda item: item[1], reverse=True))\n",
        "    t = { i: t[i] for i in t.keys() if t[i] < treshold}\n",
        "    result.append(pd.DataFrame.from_dict(t, orient='index', columns=[f\"Frequency for class '{class_labels[y-1]}'\"]).head(n=30))\n",
        "  return result\n",
        "  \n",
        "for t in words_info(3000):\n",
        "  print(t)\n",
        "  print('\\n')"
      ],
      "metadata": {
        "colab": {
          "base_uri": "https://localhost:8080/"
        },
        "id": "wdRQfq8IhvpX",
        "outputId": "81251bd6-76ec-42e4-8203-5f15dee3aa79"
      },
      "execution_count": 96,
      "outputs": [
        {
          "output_type": "stream",
          "name": "stdout",
          "text": [
            "            Frequency for class 'World'\n",
            "its                                2965\n",
            "have                               2962\n",
            "AP                                 2768\n",
            "it                                 2605\n",
            "were                               2532\n",
            "(Reuters)                          2478\n",
            "Iraq                               2457\n",
            "two                                2437\n",
            "US                                 2395\n",
            "their                              2388\n",
            "be                                 2302\n",
            "killed                             2267\n",
            "he                                 2235\n",
            "Minister                           2192\n",
            "people                             2148\n",
            "will                               2095\n",
            "are                                2074\n",
            "who                                2044\n",
            "government                         2032\n",
            "said.                              1963\n",
            "over                               1907\n",
            "Prime                              1768\n",
            "Iraqi                              1764\n",
            "officials                          1692\n",
            "more                               1677\n",
            "been                               1673\n",
            "United                             1654\n",
            "but                                1589\n",
            "military                           1578\n",
            "--                                 1536\n",
            "\n",
            "\n",
            "         Frequency for class 'Sports'\n",
            "be                               2741\n",
            "--                               2513\n",
            "last                             2487\n",
            "have                             2463\n",
            "against                          2423\n",
            "two                              2257\n",
            "team                             2217\n",
            "win                              2176\n",
            "it                               2174\n",
            "victory                          2104\n",
            "this                             2084\n",
            "New                              2077\n",
            "had                              1978\n",
            "game                             1974\n",
            "but                              1865\n",
            "one                              1849\n",
            "when                             1829\n",
            "out                              1822\n",
            "Cup                              1817\n",
            "who                              1783\n",
            "they                             1661\n",
            "not                              1661\n",
            "League                           1634\n",
            "World                            1590\n",
            "season                           1571\n",
            "coach                            1565\n",
            "second                           1562\n",
            "are                              1503\n",
            "lead                             1475\n",
            "night                            1456\n",
            "\n",
            "\n",
            "           Frequency for class 'Business'\n",
            "company                              2995\n",
            "prices                               2767\n",
            "NEW                                  2682\n",
            "U.S.                                 2608\n",
            "percent                              2452\n",
            "YORK                                 2412\n",
            "Corp.                                2367\n",
            "more                                 2114\n",
            "was                                  2100\n",
            "about                                1983\n",
            "million                              1972\n",
            "new                                  1947\n",
            "be                                   1902\n",
            "are                                  1885\n",
            "than                                 1868\n",
            "but                                  1826\n",
            "have                                 1823\n",
            "Monday                               1814\n",
            "Wednesday                            1794\n",
            "&lt;A                                1775\n",
            "Tuesday                              1773\n",
            "up                                   1763\n",
            "--                                   1752\n",
            "over                                 1728\n",
            "Thursday                             1713\n",
            "billion                              1704\n",
            "their                                1693\n",
            "sales                                1601\n",
            "Friday                               1547\n",
            "this                                 1515\n",
            "\n",
            "\n",
            "           Frequency for class 'Sci/Tech'\n",
            "Microsoft                            2746\n",
            "A                                    2437\n",
            "their                                2392\n",
            "software                             2319\n",
            "more                                 2148\n",
            "Internet                             2081\n",
            "company                              2076\n",
            "this                                 1979\n",
            "--                                   1839\n",
            "Inc.                                 1776\n",
            "first                                1725\n",
            "up                                   1723\n",
            "was                                  1702\n",
            "into                                 1679\n",
            "but                                  1665\n",
            "AP                                   1648\n",
            "which                                1603\n",
            "than                                 1597\n",
            "they                                 1586\n",
            "been                                 1579\n",
            "announced                            1555\n",
            "about                                1533\n",
            "Corp.                                1444\n",
            "or                                   1444\n",
            "over                                 1429\n",
            "could                                1421\n",
            "can                                  1386\n",
            "music                                1333\n",
            "one                                  1329\n",
            "Reuters                              1320\n",
            "\n",
            "\n"
          ]
        }
      ]
    },
    {
      "cell_type": "markdown",
      "source": [
        "Видим, что больше всего встречаются стоп слова , знаки пунктуации и спецсимволы, а так же отдельновыраженные маркеры для каждого из классов. \n",
        "Reuters, AP - новостные агенства, не несут никакой роли. \n",
        "\n",
        "Sport - leagye, cup, game (persons, locations, sport words)\n",
        "\n",
        "World - government, Ministries, U.S. (countries, persons)\n",
        "\n",
        "Sci\\Tech - Microsoft, software, Internet (technology)\n",
        "\n",
        "Business - Million, billion, prices, company (numbers, businessmaans)\n",
        "\n",
        "Эти признаки помогут при кластеризации\n"
      ],
      "metadata": {
        "id": "prbFWhGpmykr"
      }
    },
    {
      "cell_type": "markdown",
      "source": [
        "**Препроцессинг базовый**"
      ],
      "metadata": {
        "id": "wbL9aMghqV-a"
      }
    },
    {
      "cell_type": "markdown",
      "source": [
        "Удалим знаки препинания и спец символы из обоих столбцов"
      ],
      "metadata": {
        "id": "-6tJUDLAqZaD"
      }
    },
    {
      "cell_type": "code",
      "source": [
        "for column in [\"Title\", \"Message\"]:\n",
        "  df[column] = [i.lower() for i in  df[column]] #lower case\n",
        "  df[column] = [re.sub(r'\\S*@\\S*\\s?','',i) for i in  df[column]] \n",
        "  df[column] = df[column].replace(r'http\\s+|www.\\s+','',regex=True).replace(r'http\\S+', '', regex=True).replace(r'www\\S+', '', regex=True) #remove adresses\n",
        "  for c in ['&lt;', '&gt', 'href=', \"#39;\", \"'s\", \"--\", \" - \"]:\n",
        "    df[column] = df[column].map(lambda x: x.replace(c,' '))\n",
        "  for c in '<.*?>+\"()[],!?%\\'':\n",
        "    df[column] = df[column].map(lambda x: x.replace(c,' '))\n",
        "  for c in r'\\/':\n",
        "    df[column] = df[column].map(lambda x: x.replace(c,' '))\n",
        "  df[column] = df[column].map(lambda x: x.translate(str.maketrans('', '', string.punctuation)))"
      ],
      "metadata": {
        "id": "bg9mAHc5rZEp"
      },
      "execution_count": 3,
      "outputs": []
    },
    {
      "cell_type": "code",
      "source": [
        "words_info(10000)"
      ],
      "metadata": {
        "colab": {
          "base_uri": "https://localhost:8080/"
        },
        "id": "w8LIsOJbsm1v",
        "outputId": "d42f761d-953a-4d60-e95d-7ab7b5d35260"
      },
      "execution_count": 125,
      "outputs": [
        {
          "output_type": "execute_result",
          "data": {
            "text/plain": [
              "[           Frequency for class 'World'\n",
              " for                               8393\n",
              " said                              7408\n",
              " that                              6633\n",
              " an                                5528\n",
              " s                                 5209\n",
              " as                                5158\n",
              " at                                5142\n",
              " with                              5129\n",
              " by                                4868\n",
              " his                               4679\n",
              " has                               4407\n",
              " was                               4306\n",
              " from                              4071\n",
              " us                                4001\n",
              " reuters                           3967\n",
              " is                                3934\n",
              " president                         3720\n",
              " after                             3480\n",
              " its                               2973\n",
              " have                              2947\n",
              " ap                                2945\n",
              " minister                          2910\n",
              " two                               2905\n",
              " iraq                              2888\n",
              " it                                2883\n",
              " new                               2607\n",
              " were                              2523\n",
              " their                             2408\n",
              " he                                2374\n",
              " people                            2356,          Frequency for class 'Sports'\n",
              " at                               7836\n",
              " s                                7623\n",
              " his                              7531\n",
              " with                             7088\n",
              " was                              5171\n",
              " as                               4879\n",
              " he                               4395\n",
              " that                             4331\n",
              " is                               4140\n",
              " after                            3953\n",
              " has                              3813\n",
              " their                            3636\n",
              " new                              3542\n",
              " over                             3500\n",
              " first                            3451\n",
              " by                               3416\n",
              " an                               3305\n",
              " will                             3252\n",
              " from                             3238\n",
              " it                               3191\n",
              " ap                               3143\n",
              " be                               2761\n",
              " last                             2628\n",
              " game                             2623\n",
              " team                             2572\n",
              " night                            2523\n",
              " world                            2511\n",
              " have                             2461\n",
              " against                          2422\n",
              " two                              2418,            Frequency for class 'Business'\n",
              " for                                  9227\n",
              " its                                  9166\n",
              " s                                    7334\n",
              " that                                 7127\n",
              " said                                 7118\n",
              " as                                   6967\n",
              " us                                   6495\n",
              " it                                   6047\n",
              " new                                  5754\n",
              " reuters                              5608\n",
              " by                                   5365\n",
              " is                                   4430\n",
              " from                                 4313\n",
              " with                                 4263\n",
              " has                                  4019\n",
              " oil                                  4000\n",
              " at                                   3848\n",
              " will                                 3677\n",
              " inc                                  3590\n",
              " an                                   3404\n",
              " company                              3373\n",
              " after                                3364\n",
              " prices                               3025\n",
              " york                                 3017\n",
              " percent                              2661\n",
              " corp                                 2489\n",
              " million                              2275\n",
              " more                                 2250\n",
              " monday                               2213\n",
              " wednesday                            2197,            Frequency for class 'Sci/Tech'\n",
              " for                                  9681\n",
              " on                                   9609\n",
              " that                                 9043\n",
              " its                                  7425\n",
              " is                                   7252\n",
              " with                                 6000\n",
              " has                                  5955\n",
              " it                                   5860\n",
              " new                                  5229\n",
              " s                                    4998\n",
              " by                                   4879\n",
              " as                                   4632\n",
              " will                                 4330\n",
              " an                                   4152\n",
              " from                                 3965\n",
              " at                                   3760\n",
              " said                                 3534\n",
              " are                                  3512\n",
              " have                                 3312\n",
              " be                                   3289\n",
              " software                             2864\n",
              " microsoft                            2824\n",
              " internet                             2516\n",
              " their                                2427\n",
              " this                                 2380\n",
              " more                                 2330\n",
              " company                              2320\n",
              " but                                  2119\n",
              " ap                                   2035\n",
              " reuters                              1962]"
            ]
          },
          "metadata": {},
          "execution_count": 125
        }
      ]
    },
    {
      "cell_type": "markdown",
      "source": [
        "Теперь можем начать процесс кластеризации. Отделим классы и соединим заголовки с текстом сообщения: "
      ],
      "metadata": {
        "id": "5jVyh2Kuw6XD"
      }
    },
    {
      "cell_type": "code",
      "source": [
        "data = pd.DataFrame()\n",
        "data[\"Class\"] = df[\"Class\"]\n",
        "data[\"Text\"] = df[\"Title\"] + \" \"+ df[\"Message\"]"
      ],
      "metadata": {
        "id": "vMC1X9LFxgix"
      },
      "execution_count": 4,
      "outputs": []
    },
    {
      "cell_type": "code",
      "source": [
        "data.head(n=5)"
      ],
      "metadata": {
        "colab": {
          "base_uri": "https://localhost:8080/",
          "height": 206
        },
        "id": "2xaq-_AmxusV",
        "outputId": "2ab7b357-9925-4624-db57-a80b5c89a755"
      },
      "execution_count": 144,
      "outputs": [
        {
          "output_type": "execute_result",
          "data": {
            "text/html": [
              "\n",
              "  <div id=\"df-c7e5b448-1e03-4014-965b-dc90bcd67ab9\">\n",
              "    <div class=\"colab-df-container\">\n",
              "      <div>\n",
              "<style scoped>\n",
              "    .dataframe tbody tr th:only-of-type {\n",
              "        vertical-align: middle;\n",
              "    }\n",
              "\n",
              "    .dataframe tbody tr th {\n",
              "        vertical-align: top;\n",
              "    }\n",
              "\n",
              "    .dataframe thead th {\n",
              "        text-align: right;\n",
              "    }\n",
              "</style>\n",
              "<table border=\"1\" class=\"dataframe\">\n",
              "  <thead>\n",
              "    <tr style=\"text-align: right;\">\n",
              "      <th></th>\n",
              "      <th>Class</th>\n",
              "      <th>Text</th>\n",
              "    </tr>\n",
              "  </thead>\n",
              "  <tbody>\n",
              "    <tr>\n",
              "      <th>0</th>\n",
              "      <td>3</td>\n",
              "      <td>wall st bears claw back into the black reuters...</td>\n",
              "    </tr>\n",
              "    <tr>\n",
              "      <th>1</th>\n",
              "      <td>3</td>\n",
              "      <td>carlyle looks toward commercial aerospace reut...</td>\n",
              "    </tr>\n",
              "    <tr>\n",
              "      <th>2</th>\n",
              "      <td>3</td>\n",
              "      <td>oil and economy cloud stocks outlook reuters r...</td>\n",
              "    </tr>\n",
              "    <tr>\n",
              "      <th>3</th>\n",
              "      <td>3</td>\n",
              "      <td>iraq halts oil exports from main southern pipe...</td>\n",
              "    </tr>\n",
              "    <tr>\n",
              "      <th>4</th>\n",
              "      <td>3</td>\n",
              "      <td>oil prices soar to alltime record posing new m...</td>\n",
              "    </tr>\n",
              "  </tbody>\n",
              "</table>\n",
              "</div>\n",
              "      <button class=\"colab-df-convert\" onclick=\"convertToInteractive('df-c7e5b448-1e03-4014-965b-dc90bcd67ab9')\"\n",
              "              title=\"Convert this dataframe to an interactive table.\"\n",
              "              style=\"display:none;\">\n",
              "        \n",
              "  <svg xmlns=\"http://www.w3.org/2000/svg\" height=\"24px\"viewBox=\"0 0 24 24\"\n",
              "       width=\"24px\">\n",
              "    <path d=\"M0 0h24v24H0V0z\" fill=\"none\"/>\n",
              "    <path d=\"M18.56 5.44l.94 2.06.94-2.06 2.06-.94-2.06-.94-.94-2.06-.94 2.06-2.06.94zm-11 1L8.5 8.5l.94-2.06 2.06-.94-2.06-.94L8.5 2.5l-.94 2.06-2.06.94zm10 10l.94 2.06.94-2.06 2.06-.94-2.06-.94-.94-2.06-.94 2.06-2.06.94z\"/><path d=\"M17.41 7.96l-1.37-1.37c-.4-.4-.92-.59-1.43-.59-.52 0-1.04.2-1.43.59L10.3 9.45l-7.72 7.72c-.78.78-.78 2.05 0 2.83L4 21.41c.39.39.9.59 1.41.59.51 0 1.02-.2 1.41-.59l7.78-7.78 2.81-2.81c.8-.78.8-2.07 0-2.86zM5.41 20L4 18.59l7.72-7.72 1.47 1.35L5.41 20z\"/>\n",
              "  </svg>\n",
              "      </button>\n",
              "      \n",
              "  <style>\n",
              "    .colab-df-container {\n",
              "      display:flex;\n",
              "      flex-wrap:wrap;\n",
              "      gap: 12px;\n",
              "    }\n",
              "\n",
              "    .colab-df-convert {\n",
              "      background-color: #E8F0FE;\n",
              "      border: none;\n",
              "      border-radius: 50%;\n",
              "      cursor: pointer;\n",
              "      display: none;\n",
              "      fill: #1967D2;\n",
              "      height: 32px;\n",
              "      padding: 0 0 0 0;\n",
              "      width: 32px;\n",
              "    }\n",
              "\n",
              "    .colab-df-convert:hover {\n",
              "      background-color: #E2EBFA;\n",
              "      box-shadow: 0px 1px 2px rgba(60, 64, 67, 0.3), 0px 1px 3px 1px rgba(60, 64, 67, 0.15);\n",
              "      fill: #174EA6;\n",
              "    }\n",
              "\n",
              "    [theme=dark] .colab-df-convert {\n",
              "      background-color: #3B4455;\n",
              "      fill: #D2E3FC;\n",
              "    }\n",
              "\n",
              "    [theme=dark] .colab-df-convert:hover {\n",
              "      background-color: #434B5C;\n",
              "      box-shadow: 0px 1px 3px 1px rgba(0, 0, 0, 0.15);\n",
              "      filter: drop-shadow(0px 1px 2px rgba(0, 0, 0, 0.3));\n",
              "      fill: #FFFFFF;\n",
              "    }\n",
              "  </style>\n",
              "\n",
              "      <script>\n",
              "        const buttonEl =\n",
              "          document.querySelector('#df-c7e5b448-1e03-4014-965b-dc90bcd67ab9 button.colab-df-convert');\n",
              "        buttonEl.style.display =\n",
              "          google.colab.kernel.accessAllowed ? 'block' : 'none';\n",
              "\n",
              "        async function convertToInteractive(key) {\n",
              "          const element = document.querySelector('#df-c7e5b448-1e03-4014-965b-dc90bcd67ab9');\n",
              "          const dataTable =\n",
              "            await google.colab.kernel.invokeFunction('convertToInteractive',\n",
              "                                                     [key], {});\n",
              "          if (!dataTable) return;\n",
              "\n",
              "          const docLinkHtml = 'Like what you see? Visit the ' +\n",
              "            '<a target=\"_blank\" href=https://colab.research.google.com/notebooks/data_table.ipynb>data table notebook</a>'\n",
              "            + ' to learn more about interactive tables.';\n",
              "          element.innerHTML = '';\n",
              "          dataTable['output_type'] = 'display_data';\n",
              "          await google.colab.output.renderOutput(dataTable, element);\n",
              "          const docLink = document.createElement('div');\n",
              "          docLink.innerHTML = docLinkHtml;\n",
              "          element.appendChild(docLink);\n",
              "        }\n",
              "      </script>\n",
              "    </div>\n",
              "  </div>\n",
              "  "
            ],
            "text/plain": [
              "   Class                                               Text\n",
              "0      3  wall st bears claw back into the black reuters...\n",
              "1      3  carlyle looks toward commercial aerospace reut...\n",
              "2      3  oil and economy cloud stocks outlook reuters r...\n",
              "3      3  iraq halts oil exports from main southern pipe...\n",
              "4      3  oil prices soar to alltime record posing new m..."
            ]
          },
          "metadata": {},
          "execution_count": 144
        }
      ]
    },
    {
      "cell_type": "markdown",
      "source": [
        "Соберем весь текст и протокенизируем. Оставим этот токенизатор для последующих обработок и тестирования, он более полный."
      ],
      "metadata": {
        "id": "MlBiPIQ4zZRs"
      }
    },
    {
      "cell_type": "code",
      "source": [
        "vectorizer = TfidfVectorizer(max_features = 1000)\n",
        "X = vectorizer.fit_transform(data['Text'])"
      ],
      "metadata": {
        "id": "f76_meMHFiDD"
      },
      "execution_count": 51,
      "outputs": []
    },
    {
      "cell_type": "markdown",
      "source": [
        "мы подготовили данные к обучению, теперь вектора подаем модели kmeans, у которой мы найдем число K оптимальное."
      ],
      "metadata": {
        "id": "7hsUjLi568_e"
      }
    },
    {
      "cell_type": "code",
      "source": [
        "wcss = []\n",
        "for i in range(1,11):\n",
        "    kmeans = KMeans(n_clusters=i,init='k-means++',max_iter=300,n_init=10,random_state=0)\n",
        "    kmeans.fit(X)\n",
        "    wcss.append(kmeans.inertia_)\n",
        "plt.plot(range(1,11),wcss)\n",
        "plt.title('The Elbow Method')\n",
        "plt.xlabel('Number of clusters')\n",
        "plt.ylabel('WCSS')\n",
        "plt.savefig('elbow.png')\n",
        "plt.show()"
      ],
      "metadata": {
        "colab": {
          "base_uri": "https://localhost:8080/",
          "height": 295
        },
        "id": "RTbRneA62yRs",
        "outputId": "b6918822-2941-45f4-ee12-916eedb34bb0"
      },
      "execution_count": 252,
      "outputs": [
        {
          "output_type": "display_data",
          "data": {
            "image/png": "[encoded data removed]",
            "text/plain": [
              "<Figure size 432x288 with 1 Axes>"
            ]
          },
          "metadata": {
            "needs_background": "light"
          }
        }
      ]
    },
    {
      "cell_type": "markdown",
      "source": [
        "Видим на графике зависимости сумм расстояний между кластерами и количества классов небольшой перелом на k = 4, но явного вывод мы сделать не можем. На исходное распредеелние классов результат работы модели пока не похож, распределение классов отличается от исходного: "
      ],
      "metadata": {
        "id": "yGzAQUXv9wV6"
      }
    },
    {
      "cell_type": "code",
      "source": [
        "kmeans = KMeans(n_clusters=4,init='k-means++',max_iter=300,n_init=10,random_state=0)\n",
        "result = kmeans.fit_predict(X)\n",
        "{i : list(result).count(i) for i in range(4)}"
      ],
      "metadata": {
        "colab": {
          "base_uri": "https://localhost:8080/"
        },
        "id": "W8JKzQoa3c4B",
        "outputId": "c9db6221-6a48-4086-b32e-7669beb7c0dd"
      },
      "execution_count": 52,
      "outputs": [
        {
          "output_type": "execute_result",
          "data": {
            "text/plain": [
              "{0: 8132, 1: 48197, 2: 55843, 3: 7828}"
            ]
          },
          "metadata": {},
          "execution_count": 52
        }
      ]
    },
    {
      "cell_type": "markdown",
      "source": [
        "Возьмем рандомную выборку из 10 текстов и посмотрим, как распределяет по разным классам эти тектс ы модель:"
      ],
      "metadata": {
        "id": "Z4ANR6nmAhzV"
      }
    },
    {
      "cell_type": "code",
      "source": [
        "for i in range(4990, 5000):\n",
        "  print( f\"class {result[i]} text {data.iloc[i]['Text']}\")"
      ],
      "metadata": {
        "id": "R2ZFrK_4-zIL",
        "outputId": "38d92719-cb0a-4b1a-cc94-dcbb612a8081",
        "colab": {
          "base_uri": "https://localhost:8080/"
        }
      },
      "execution_count": 53,
      "outputs": [
        {
          "output_type": "stream",
          "name": "stdout",
          "text": [
            "class 2 text un chad could see more darfur refugees geneva aug  20  2004  tens of thousands more refugees might flee sudan  s darfur region into neighboring chad because of persistent attacks and rapes by arab militias  the united nations said friday  \n",
            "class 3 text us warplanes strike falluja report fallujah  iraq  ap   us forces launched two airstrikes today on the troubled iraqi city of falluja  hospital officials and witnesses said  \n",
            "class 2 text israeli court orders reply for hague jerusalem the israeli supreme court ordered the government to produce a statement in the next 30 days that assesses the ramifications of a nonbinding ruling by the international court of justice in the hague that declared the israeli security barrier    \n",
            "class 2 text cleric  s aides kidnapped journalist will be freed baghdad  iraq   some of muqtada alsadr  s aides in iraq say kidnappers have promised to release a western journalist  perhaps as early as friday  \n",
            "class 2 text women lay claim to   miracle children   three women sensationally turned up yesterday at the nairobi cid headquarters and laid claim on some of archbishop deya  s  quotmiracle babies  quot    \n",
            "class 1 text court to hear medal appeal  britain will find out on saturday whether its equestrian medals will be upgraded \n",
            "class 1 text guatemala to pay paramilitaries guatemala  government agrees to pay millions of dollars to former paramilitaries  who some accuse of war crimes \n",
            "class 2 text particle collider edges forward physicists take a key decision on the technology to be used in the international linear collider  one of the grand scientific projects of the 21st century \n",
            "class 0 text oil futures rise to record as iraq fighting threatens exports aug  20  bloomberg    crude oil futures rose to a record  surpassing  49 a barrel in new york  on concern clashes in southern iraq between us troops and shiite muslim militiamen may cut exports  \n",
            "class 1 text general growth properties to acquire rouse for  12 6 bn new york  august 20  new ratings   general growth properties inc  ggp nys   the secondlargest shopping mall operator in the us  has agreed to buy rouse company  rse   in a cash and debt assumptions deal worth about  12 6 billion  \n"
          ]
        }
      ]
    },
    {
      "cell_type": "markdown",
      "source": [
        "График зависимости предсказанный label - реальный label"
      ],
      "metadata": {
        "id": "TQEQxyI-I9Wy"
      }
    },
    {
      "cell_type": "code",
      "source": [
        "slabels_results = {1:{1:0, 2:0, 3:0, 4:0}, 2:{1:0, 2:0, 3:0, 4:0}, 3:{1:0, 2:0, 3:0, 4:0}, 4:{1:0, 2:0, 3:0, 4:0}}\n",
        "dlabels = {0:1, 1:2, 2:3, 3:4}\n",
        "for textid in range(X.shape[0]):\n",
        "  predicted_label = dlabels[result[textid]]\n",
        "  true_label = df.iloc[textid][\"Class\"]\n",
        "  slabels_results[true_label][predicted_label] += 1\n",
        "\n",
        "print(f\"Распределение: реальный класс \\ на какие реальные классы модель выбрала этот класс - {slabels_results}\")\n",
        "def get_fail_prob(cl):\n",
        "  max_prob = max(cl.values())\n",
        "  total = sum(cl.values()) \n",
        "  return max_prob/total\n",
        "s = {i : f\"{int(get_fail_prob(slabels_results[i])*100)}%\" for i in range(1, 5)}\n",
        "print(f\"Уверенность в определении класса для каждого из типов текста: {s}\")"
      ],
      "metadata": {
        "id": "-WmuEtAXJFrY",
        "outputId": "aee0facc-42e4-4606-a992-3a0b9e877ca3",
        "colab": {
          "base_uri": "https://localhost:8080/"
        }
      },
      "execution_count": 78,
      "outputs": [
        {
          "output_type": "stream",
          "name": "stdout",
          "text": [
            "Распределение: реальный класс \\ на какие реальные классы модель выбрала этот класс - {1: {1: 420, 2: 6418, 3: 20395, 4: 2767}, 2: {1: 14, 2: 3259, 3: 23619, 4: 3108}, 3: {1: 7444, 2: 16540, 3: 5789, 4: 227}, 4: {1: 254, 2: 21980, 3: 6040, 4: 1726}}\n",
            "Уверенность в определении класса для каждого из типов текста: {1: '67%', 2: '78%', 3: '55%', 4: '73%'}\n"
          ]
        }
      ]
    },
    {
      "cell_type": "markdown",
      "source": [
        "Как мы видим, модель слабо раскидывает тексты по классам взависимости от темы."
      ],
      "metadata": {
        "id": "y5jAes4P_ucp"
      }
    },
    {
      "cell_type": "markdown",
      "source": [
        "**Усложненный препроцессинг**"
      ],
      "metadata": {
        "id": "0sXxDu80-BBk"
      }
    },
    {
      "cell_type": "markdown",
      "source": [
        "Удалим стоп слова из текста"
      ],
      "metadata": {
        "id": "xj9npS0s-EOy"
      }
    },
    {
      "cell_type": "code",
      "source": [
        "stop = stopwords.words('english')\n",
        "df['Title'] = df['Title'].apply(lambda x: ' '.join([word for word in x.split() if word not in (stop)]))\n",
        "df['Message'] = df['Message'].apply(lambda x: ' '.join([word for word in x.split() if word not in (stop)]))\n",
        "df.tail(n=5)"
      ],
      "metadata": {
        "colab": {
          "base_uri": "https://localhost:8080/",
          "height": 337
        },
        "id": "0F9JKdB2-GrW",
        "outputId": "af5b60ea-5eed-4779-aec8-92d1309b6b3b"
      },
      "execution_count": 39,
      "outputs": [
        {
          "output_type": "execute_result",
          "data": {
            "text/html": [
              "\n",
              "  <div id=\"df-9d316c31-437e-4087-9c59-be2e2ea0527a\">\n",
              "    <div class=\"colab-df-container\">\n",
              "      <div>\n",
              "<style scoped>\n",
              "    .dataframe tbody tr th:only-of-type {\n",
              "        vertical-align: middle;\n",
              "    }\n",
              "\n",
              "    .dataframe tbody tr th {\n",
              "        vertical-align: top;\n",
              "    }\n",
              "\n",
              "    .dataframe thead th {\n",
              "        text-align: right;\n",
              "    }\n",
              "</style>\n",
              "<table border=\"1\" class=\"dataframe\">\n",
              "  <thead>\n",
              "    <tr style=\"text-align: right;\">\n",
              "      <th></th>\n",
              "      <th>Class</th>\n",
              "      <th>Title</th>\n",
              "      <th>Message</th>\n",
              "      <th>Text</th>\n",
              "      <th>TextProcessed</th>\n",
              "      <th>FinalText</th>\n",
              "    </tr>\n",
              "  </thead>\n",
              "  <tbody>\n",
              "    <tr>\n",
              "      <th>119995</th>\n",
              "      <td>1</td>\n",
              "      <td>pakistan musharraf says quit army chief</td>\n",
              "      <td>karachi reuters pakistani president pervez mus...</td>\n",
              "      <td>pakistan musharraf says quit army chief karach...</td>\n",
              "      <td>karachi reuters pakistani president pervez mus...</td>\n",
              "      <td>pakistan musharraf says quit army chief karach...</td>\n",
              "    </tr>\n",
              "    <tr>\n",
              "      <th>119996</th>\n",
              "      <td>2</td>\n",
              "      <td>renteria signing topshelf deal</td>\n",
              "      <td>red sox general manager theo epstein acknowled...</td>\n",
              "      <td>renteria signing topshelf deal red sox general...</td>\n",
              "      <td>red sox general manager theo epstein acknowled...</td>\n",
              "      <td>renteria signing topshelf deal red sox general...</td>\n",
              "    </tr>\n",
              "    <tr>\n",
              "      <th>119997</th>\n",
              "      <td>2</td>\n",
              "      <td>saban going dolphins yet</td>\n",
              "      <td>miami dolphins put courtship lsu coach nick sa...</td>\n",
              "      <td>saban going dolphins yet miami dolphins put co...</td>\n",
              "      <td>miami dolphins put courtship lsu coach nick sa...</td>\n",
              "      <td>saban going dolphins yet miami dolphins put co...</td>\n",
              "    </tr>\n",
              "    <tr>\n",
              "      <th>119998</th>\n",
              "      <td>2</td>\n",
              "      <td>today nfl games</td>\n",
              "      <td>pittsburgh ny giants time 130 p line steelers ...</td>\n",
              "      <td>today nfl games pittsburgh ny giants time 130 ...</td>\n",
              "      <td>pittsburgh ny giants time 130 p line steelers ...</td>\n",
              "      <td>today nfl games pittsburgh ny giants time 130 ...</td>\n",
              "    </tr>\n",
              "    <tr>\n",
              "      <th>119999</th>\n",
              "      <td>2</td>\n",
              "      <td>nets get carter raptors</td>\n",
              "      <td>indianapolis allstar vince carter traded toron...</td>\n",
              "      <td>nets get carter raptors indianapolis allstar v...</td>\n",
              "      <td>indianapolis allstar vince carter traded toron...</td>\n",
              "      <td>nets get carter raptors indianapolis allstar v...</td>\n",
              "    </tr>\n",
              "  </tbody>\n",
              "</table>\n",
              "</div>\n",
              "      <button class=\"colab-df-convert\" onclick=\"convertToInteractive('df-9d316c31-437e-4087-9c59-be2e2ea0527a')\"\n",
              "              title=\"Convert this dataframe to an interactive table.\"\n",
              "              style=\"display:none;\">\n",
              "        \n",
              "  <svg xmlns=\"http://www.w3.org/2000/svg\" height=\"24px\"viewBox=\"0 0 24 24\"\n",
              "       width=\"24px\">\n",
              "    <path d=\"M0 0h24v24H0V0z\" fill=\"none\"/>\n",
              "    <path d=\"M18.56 5.44l.94 2.06.94-2.06 2.06-.94-2.06-.94-.94-2.06-.94 2.06-2.06.94zm-11 1L8.5 8.5l.94-2.06 2.06-.94-2.06-.94L8.5 2.5l-.94 2.06-2.06.94zm10 10l.94 2.06.94-2.06 2.06-.94-2.06-.94-.94-2.06-.94 2.06-2.06.94z\"/><path d=\"M17.41 7.96l-1.37-1.37c-.4-.4-.92-.59-1.43-.59-.52 0-1.04.2-1.43.59L10.3 9.45l-7.72 7.72c-.78.78-.78 2.05 0 2.83L4 21.41c.39.39.9.59 1.41.59.51 0 1.02-.2 1.41-.59l7.78-7.78 2.81-2.81c.8-.78.8-2.07 0-2.86zM5.41 20L4 18.59l7.72-7.72 1.47 1.35L5.41 20z\"/>\n",
              "  </svg>\n",
              "      </button>\n",
              "      \n",
              "  <style>\n",
              "    .colab-df-container {\n",
              "      display:flex;\n",
              "      flex-wrap:wrap;\n",
              "      gap: 12px;\n",
              "    }\n",
              "\n",
              "    .colab-df-convert {\n",
              "      background-color: #E8F0FE;\n",
              "      border: none;\n",
              "      border-radius: 50%;\n",
              "      cursor: pointer;\n",
              "      display: none;\n",
              "      fill: #1967D2;\n",
              "      height: 32px;\n",
              "      padding: 0 0 0 0;\n",
              "      width: 32px;\n",
              "    }\n",
              "\n",
              "    .colab-df-convert:hover {\n",
              "      background-color: #E2EBFA;\n",
              "      box-shadow: 0px 1px 2px rgba(60, 64, 67, 0.3), 0px 1px 3px 1px rgba(60, 64, 67, 0.15);\n",
              "      fill: #174EA6;\n",
              "    }\n",
              "\n",
              "    [theme=dark] .colab-df-convert {\n",
              "      background-color: #3B4455;\n",
              "      fill: #D2E3FC;\n",
              "    }\n",
              "\n",
              "    [theme=dark] .colab-df-convert:hover {\n",
              "      background-color: #434B5C;\n",
              "      box-shadow: 0px 1px 3px 1px rgba(0, 0, 0, 0.15);\n",
              "      filter: drop-shadow(0px 1px 2px rgba(0, 0, 0, 0.3));\n",
              "      fill: #FFFFFF;\n",
              "    }\n",
              "  </style>\n",
              "\n",
              "      <script>\n",
              "        const buttonEl =\n",
              "          document.querySelector('#df-9d316c31-437e-4087-9c59-be2e2ea0527a button.colab-df-convert');\n",
              "        buttonEl.style.display =\n",
              "          google.colab.kernel.accessAllowed ? 'block' : 'none';\n",
              "\n",
              "        async function convertToInteractive(key) {\n",
              "          const element = document.querySelector('#df-9d316c31-437e-4087-9c59-be2e2ea0527a');\n",
              "          const dataTable =\n",
              "            await google.colab.kernel.invokeFunction('convertToInteractive',\n",
              "                                                     [key], {});\n",
              "          if (!dataTable) return;\n",
              "\n",
              "          const docLinkHtml = 'Like what you see? Visit the ' +\n",
              "            '<a target=\"_blank\" href=https://colab.research.google.com/notebooks/data_table.ipynb>data table notebook</a>'\n",
              "            + ' to learn more about interactive tables.';\n",
              "          element.innerHTML = '';\n",
              "          dataTable['output_type'] = 'display_data';\n",
              "          await google.colab.output.renderOutput(dataTable, element);\n",
              "          const docLink = document.createElement('div');\n",
              "          docLink.innerHTML = docLinkHtml;\n",
              "          element.appendChild(docLink);\n",
              "        }\n",
              "      </script>\n",
              "    </div>\n",
              "  </div>\n",
              "  "
            ],
            "text/plain": [
              "        Class  ...                                          FinalText\n",
              "119995      1  ...  pakistan musharraf says quit army chief karach...\n",
              "119996      2  ...  renteria signing topshelf deal red sox general...\n",
              "119997      2  ...  saban going dolphins yet miami dolphins put co...\n",
              "119998      2  ...  today nfl games pittsburgh ny giants time 130 ...\n",
              "119999      2  ...  nets get carter raptors indianapolis allstar v...\n",
              "\n",
              "[5 rows x 6 columns]"
            ]
          },
          "metadata": {},
          "execution_count": 39
        }
      ]
    },
    {
      "cell_type": "markdown",
      "source": [
        "Далее используем pos-tagging, где мы размечаем отедльно позиции, компании, личностей и оставляем их, не приводя и не удаляя. После этого будем убирать самые встречающиеся во всем тексте (например новостные агенства) и убираем редкие.\n",
        "\n",
        "Далее из сообщения мы убираем слова из заголовка, соединяем сообщение и получившуюся информацию отдаем на обучение. "
      ],
      "metadata": {
        "id": "JEEsmMfK-OKD"
      }
    },
    {
      "cell_type": "code",
      "source": [
        "df[\"Text\"] = df[\"Title\"] + \" \"+ df[\"Message\"]\n",
        "t = dict()\n",
        "for i in df[\"Text\"].map(lambda x: x.split(' ')):\n",
        "  for j in i:\n",
        "    if j not in t.keys():\n",
        "      t[j] = 0\n",
        "    t[j] += 1\n",
        "probabilities = dict(sorted(t.items(), key=lambda item: item[1], reverse=True))\n",
        "max_probability = t[list(t)[0]]\n"
      ],
      "metadata": {
        "id": "UIaFw5U4EFPF"
      },
      "execution_count": 40,
      "outputs": []
    },
    {
      "cell_type": "code",
      "source": [
        "df.head(n=5)"
      ],
      "metadata": {
        "colab": {
          "base_uri": "https://localhost:8080/",
          "height": 206
        },
        "id": "-VXdnHRSLkIi",
        "outputId": "a4f4b6a5-86fb-4a9c-fc5d-13ebf646481c"
      },
      "execution_count": 295,
      "outputs": [
        {
          "output_type": "execute_result",
          "data": {
            "text/html": [
              "\n",
              "  <div id=\"df-66e28799-8008-4836-a27c-f2d99df1b298\">\n",
              "    <div class=\"colab-df-container\">\n",
              "      <div>\n",
              "<style scoped>\n",
              "    .dataframe tbody tr th:only-of-type {\n",
              "        vertical-align: middle;\n",
              "    }\n",
              "\n",
              "    .dataframe tbody tr th {\n",
              "        vertical-align: top;\n",
              "    }\n",
              "\n",
              "    .dataframe thead th {\n",
              "        text-align: right;\n",
              "    }\n",
              "</style>\n",
              "<table border=\"1\" class=\"dataframe\">\n",
              "  <thead>\n",
              "    <tr style=\"text-align: right;\">\n",
              "      <th></th>\n",
              "      <th>Class</th>\n",
              "      <th>Title</th>\n",
              "      <th>Message</th>\n",
              "      <th>Text</th>\n",
              "    </tr>\n",
              "  </thead>\n",
              "  <tbody>\n",
              "    <tr>\n",
              "      <th>0</th>\n",
              "      <td>3</td>\n",
              "      <td>wall st bears claw back into black</td>\n",
              "      <td>wall street dwindling band are seeing green again</td>\n",
              "      <td>wall st  bears claw back into the black  reute...</td>\n",
              "    </tr>\n",
              "    <tr>\n",
              "      <th>1</th>\n",
              "      <td>3</td>\n",
              "      <td>carlyle looks toward commercial aerospace</td>\n",
              "      <td>private investment firm carlyle group which re...</td>\n",
              "      <td>carlyle looks toward commercial aerospace  reu...</td>\n",
              "    </tr>\n",
              "    <tr>\n",
              "      <th>2</th>\n",
              "      <td>3</td>\n",
              "      <td>oil economy cloud stocks outlook</td>\n",
              "      <td>soaring crude prices plus worries about econom...</td>\n",
              "      <td>oil and economy cloud stocks  outlook  reuters...</td>\n",
              "    </tr>\n",
              "    <tr>\n",
              "      <th>3</th>\n",
              "      <td>3</td>\n",
              "      <td>iraq halts oil exports main southern pipeline</td>\n",
              "      <td>authorities have halted oil export flows main ...</td>\n",
              "      <td>iraq halts oil exports from main southern pipe...</td>\n",
              "    </tr>\n",
              "    <tr>\n",
              "      <th>4</th>\n",
              "      <td>3</td>\n",
              "      <td>oil prices soar alltime record posing menace u...</td>\n",
              "      <td>afp world oil prices toppling records strainin...</td>\n",
              "      <td>oil prices soar to alltime record  posing new ...</td>\n",
              "    </tr>\n",
              "  </tbody>\n",
              "</table>\n",
              "</div>\n",
              "      <button class=\"colab-df-convert\" onclick=\"convertToInteractive('df-66e28799-8008-4836-a27c-f2d99df1b298')\"\n",
              "              title=\"Convert this dataframe to an interactive table.\"\n",
              "              style=\"display:none;\">\n",
              "        \n",
              "  <svg xmlns=\"http://www.w3.org/2000/svg\" height=\"24px\"viewBox=\"0 0 24 24\"\n",
              "       width=\"24px\">\n",
              "    <path d=\"M0 0h24v24H0V0z\" fill=\"none\"/>\n",
              "    <path d=\"M18.56 5.44l.94 2.06.94-2.06 2.06-.94-2.06-.94-.94-2.06-.94 2.06-2.06.94zm-11 1L8.5 8.5l.94-2.06 2.06-.94-2.06-.94L8.5 2.5l-.94 2.06-2.06.94zm10 10l.94 2.06.94-2.06 2.06-.94-2.06-.94-.94-2.06-.94 2.06-2.06.94z\"/><path d=\"M17.41 7.96l-1.37-1.37c-.4-.4-.92-.59-1.43-.59-.52 0-1.04.2-1.43.59L10.3 9.45l-7.72 7.72c-.78.78-.78 2.05 0 2.83L4 21.41c.39.39.9.59 1.41.59.51 0 1.02-.2 1.41-.59l7.78-7.78 2.81-2.81c.8-.78.8-2.07 0-2.86zM5.41 20L4 18.59l7.72-7.72 1.47 1.35L5.41 20z\"/>\n",
              "  </svg>\n",
              "      </button>\n",
              "      \n",
              "  <style>\n",
              "    .colab-df-container {\n",
              "      display:flex;\n",
              "      flex-wrap:wrap;\n",
              "      gap: 12px;\n",
              "    }\n",
              "\n",
              "    .colab-df-convert {\n",
              "      background-color: #E8F0FE;\n",
              "      border: none;\n",
              "      border-radius: 50%;\n",
              "      cursor: pointer;\n",
              "      display: none;\n",
              "      fill: #1967D2;\n",
              "      height: 32px;\n",
              "      padding: 0 0 0 0;\n",
              "      width: 32px;\n",
              "    }\n",
              "\n",
              "    .colab-df-convert:hover {\n",
              "      background-color: #E2EBFA;\n",
              "      box-shadow: 0px 1px 2px rgba(60, 64, 67, 0.3), 0px 1px 3px 1px rgba(60, 64, 67, 0.15);\n",
              "      fill: #174EA6;\n",
              "    }\n",
              "\n",
              "    [theme=dark] .colab-df-convert {\n",
              "      background-color: #3B4455;\n",
              "      fill: #D2E3FC;\n",
              "    }\n",
              "\n",
              "    [theme=dark] .colab-df-convert:hover {\n",
              "      background-color: #434B5C;\n",
              "      box-shadow: 0px 1px 3px 1px rgba(0, 0, 0, 0.15);\n",
              "      filter: drop-shadow(0px 1px 2px rgba(0, 0, 0, 0.3));\n",
              "      fill: #FFFFFF;\n",
              "    }\n",
              "  </style>\n",
              "\n",
              "      <script>\n",
              "        const buttonEl =\n",
              "          document.querySelector('#df-66e28799-8008-4836-a27c-f2d99df1b298 button.colab-df-convert');\n",
              "        buttonEl.style.display =\n",
              "          google.colab.kernel.accessAllowed ? 'block' : 'none';\n",
              "\n",
              "        async function convertToInteractive(key) {\n",
              "          const element = document.querySelector('#df-66e28799-8008-4836-a27c-f2d99df1b298');\n",
              "          const dataTable =\n",
              "            await google.colab.kernel.invokeFunction('convertToInteractive',\n",
              "                                                     [key], {});\n",
              "          if (!dataTable) return;\n",
              "\n",
              "          const docLinkHtml = 'Like what you see? Visit the ' +\n",
              "            '<a target=\"_blank\" href=https://colab.research.google.com/notebooks/data_table.ipynb>data table notebook</a>'\n",
              "            + ' to learn more about interactive tables.';\n",
              "          element.innerHTML = '';\n",
              "          dataTable['output_type'] = 'display_data';\n",
              "          await google.colab.output.renderOutput(dataTable, element);\n",
              "          const docLink = document.createElement('div');\n",
              "          docLink.innerHTML = docLinkHtml;\n",
              "          element.appendChild(docLink);\n",
              "        }\n",
              "      </script>\n",
              "    </div>\n",
              "  </div>\n",
              "  "
            ],
            "text/plain": [
              "   Class  ...                                               Text\n",
              "0      3  ...  wall st  bears claw back into the black  reute...\n",
              "1      3  ...  carlyle looks toward commercial aerospace  reu...\n",
              "2      3  ...  oil and economy cloud stocks  outlook  reuters...\n",
              "3      3  ...  iraq halts oil exports from main southern pipe...\n",
              "4      3  ...  oil prices soar to alltime record  posing new ...\n",
              "\n",
              "[5 rows x 4 columns]"
            ]
          },
          "metadata": {},
          "execution_count": 295
        }
      ]
    },
    {
      "cell_type": "code",
      "source": [
        "import spacy\n",
        "\n",
        "lemmatizer = nltk.stem.WordNetLemmatizer()\n",
        "wordnet_lemmatizer = WordNetLemmatizer()\n",
        "sp = spacy.load('en_core_web_sm')\n",
        "\n",
        "def get_nnp(st):\n",
        "  sen = sp(st)\n",
        "  return [st[i] for i in range(len(sen)) if sen[i].pos_==\"NNP\"]\n",
        "\n",
        "def process_prob(x):\n",
        "  nnp_list = get_nnp(x) #its tooo long to process the whole sent.\n",
        "  res = [word for word in x.split() if word in probabilities and not (probabilities[word]<10 or probabilities[word]>10000) and not (word in nnp_list) ]\n",
        "  return ' '.join(res)\n",
        "\n",
        "def nltk_tag_to_wordnet_tag(nltk_tag):\n",
        "    if nltk_tag.startswith('J'):\n",
        "        return wordnet.ADJ\n",
        "    elif nltk_tag.startswith('V'):\n",
        "        return wordnet.VERB\n",
        "    elif nltk_tag.startswith('N'):\n",
        "        return wordnet.NOUN\n",
        "    elif nltk_tag.startswith('R'):\n",
        "        return wordnet.ADV\n",
        "    else:\n",
        "        return None\n",
        "\n",
        "def lemmatize_sentence(sentence):\n",
        "    sen = sp(sentence)\n",
        "    nltk_tagged = nltk.pos_tag(nltk.word_tokenize(sentence))\n",
        "    wordnet_tagged = map(lambda x: (x[0], nltk_tag_to_wordnet_tag(x[1])), nltk_tagged)\n",
        "    lemmatized_sentence = []\n",
        "    for word, tag in wordnet_tagged:\n",
        "        if tag is None:\n",
        "            lemmatized_sentence.append(word)\n",
        "        else:\n",
        "            lemmatized_sentence.append(lemmatizer.lemmatize(word, tag))\n",
        "    return \" \".join(lemmatized_sentence)\n"
      ],
      "metadata": {
        "id": "RbOBWFPdpa03"
      },
      "execution_count": 41,
      "outputs": []
    },
    {
      "cell_type": "code",
      "source": [
        "df[\"TextProcessed\"] = df[\"Message\"]\n",
        "for j in df.index:\n",
        "  if (j%1000 == 0):\n",
        "    print(j)\n",
        "  w = df.iloc[j][\"Message\"].split(' ')\n",
        "  title = df.iloc[j][\"Title\"].split(' ')\n",
        "  res = ' '.join([w[i] for i in range(len(w)) if not w[i] in title])\n",
        "  res = lemmatize_sentence(res)\n",
        "  res = process_prob(res)\n",
        "  df.iloc[j][\"TextProcessed\"] = res"
      ],
      "metadata": {
        "colab": {
          "base_uri": "https://localhost:8080/"
        },
        "id": "f-jsYmdnsv6q",
        "outputId": "6885c185-e954-4e71-c752-90632d44b6aa"
      },
      "execution_count": 42,
      "outputs": [
        {
          "output_type": "stream",
          "name": "stderr",
          "text": [
            "/usr/local/lib/python3.7/dist-packages/ipykernel_launcher.py:8: SettingWithCopyWarning: \n",
            "A value is trying to be set on a copy of a slice from a DataFrame\n",
            "\n",
            "See the caveats in the documentation: https://pandas.pydata.org/pandas-docs/stable/user_guide/indexing.html#returning-a-view-versus-a-copy\n",
            "  \n"
          ]
        }
      ]
    },
    {
      "cell_type": "markdown",
      "source": [
        "Делаем финальную обработку и подаем на кластеризацию."
      ],
      "metadata": {
        "id": "U1NkXT8AS_u-"
      }
    },
    {
      "cell_type": "code",
      "source": [
        "df[\"FinalText\"] = df[\"Title\"] + \" \" + df[\"TextProcessed\"]"
      ],
      "metadata": {
        "id": "WFnd4MIs12EI"
      },
      "execution_count": 43,
      "outputs": []
    },
    {
      "cell_type": "markdown",
      "source": [
        "**Кластеризация**"
      ],
      "metadata": {
        "id": "WZHMceA1wN56"
      }
    },
    {
      "cell_type": "code",
      "source": [
        "x = df[\"FinalText\"]\n",
        "vectorizer = TfidfVectorizer(max_features = 1000)\n",
        "X = vectorizer.fit_transform(x)"
      ],
      "metadata": {
        "id": "GTQ7rdQuwLcr"
      },
      "execution_count": 44,
      "outputs": []
    },
    {
      "cell_type": "code",
      "source": [
        "kmeans = KMeans(n_clusters=4,init='k-means++',max_iter=300,n_init=10,random_state=0)\n",
        "predicted = kmeans.fit_predict(X)\n",
        "{i : list(predicted).count(i) for i in range(0,4)}"
      ],
      "metadata": {
        "colab": {
          "base_uri": "https://localhost:8080/"
        },
        "id": "Yn4eWGWa2l9D",
        "outputId": "a0b4763b-cf44-4f61-ccb9-bb514021e608"
      },
      "execution_count": 48,
      "outputs": [
        {
          "output_type": "execute_result",
          "data": {
            "text/plain": [
              "{0: 7850, 1: 5701, 2: 72949, 3: 33500}"
            ]
          },
          "metadata": {},
          "execution_count": 48
        }
      ]
    },
    {
      "cell_type": "code",
      "source": [
        "for i in range(9330, 9340):\n",
        "  print( f\"class {predicted[i]} text {df.iloc[i]['FinalText']}\")"
      ],
      "metadata": {
        "id": "vRQSbitzA1Tp",
        "outputId": "5c9d4932-8ed6-470e-b397-a076bdef7ba8",
        "colab": {
          "base_uri": "https://localhost:8080/"
        }
      },
      "execution_count": 47,
      "outputs": [
        {
          "output_type": "stream",
          "name": "stdout",
          "text": [
            "class 3 text software seeks online bargains consumers united states already spending record amounts money online one ecommerce company novel way help net shoppers hunt bargains holiday season\n",
            "class 2 text controversy mishandled around athens olympic repo men come looking gold medal seemed paul hamm would old twin spin used work well back home wisconsin quotsorry brother morgan quot paul would say quotpaul parthenon maybe plaka\n",
            "class 2 text dominant us women squad true dream team athens five games us women outscoring opponents 29 points game dominant point ennui crush opponents glass hand twice many assists per game generally way every game lead olympics nine statistical categories\n",
            "class 2 text barents sea faces major threats pristine arctic waters barents sea overfished face serious pollution problems un says\n",
            "class 2 text going deep memories toronto last night doug mientkiewicz call red sox emergency catcher case calamity befell doug mirabelli raising uncomfortable specter onetime minor league catcher trying corral tim wakefield knuckleball escaped duty serving pinch runner defensive replacement first base kevin millar last night\n",
            "class 2 text quick impress athens another night another strong showing america sprinters allyson felix 18 years old youngest young lions cruised victory 200meter heat easily semifinal heat 22 36 advance finals\n",
            "class 3 text dna analysis spots email spam computational biologists ibm develop antispam filter works way scientists analyse dna\n",
            "class 2 text coach still fighting mad estrada athens 24 hours since providence super heavyweight jason estrada lost boxing match also dignity us boxing coach basheer abdullah still\n",
            "class 2 text band dumps sewage tourists dave matthews band sued allegedly dumping human waste bus onto boat chicago river\n",
            "class 2 text efforts eradicate polio falter johannesburg global effort eradicate polio meet deadline stop transmission virus end year world health organization official acknowledged yesterday citing spread cases northern nigeria\n"
          ]
        }
      ]
    },
    {
      "cell_type": "markdown",
      "source": [
        "Распределение по классам при параметре k = 4 заметно отличается, А теперь проанализируем получившуюся модель, используя существующие метки у каждого из текстов. Опять посмотрим, на какие типы текстов модель давала определенные классы:"
      ],
      "metadata": {
        "id": "gxF8fY6H2qcJ"
      }
    },
    {
      "cell_type": "code",
      "source": [
        "labels_results = {1:{1:0, 2:0, 3:0, 4:0}, 2:{1:0, 2:0, 3:0, 4:0}, 3:{1:0, 2:0, 3:0, 4:0}, 4:{1:0, 2:0, 3:0, 4:0}}\n",
        "dlabels = {0:1, 1:2, 2:3, 3:4}\n",
        "for textid in range(X.shape[0]):\n",
        "  predicted_label = dlabels[predicted[textid]]\n",
        "  true_label = df.iloc[textid][\"Class\"]\n",
        "  labels_results[true_label][predicted_label] += 1\n",
        "\n",
        "print(f\"Распределение: реальный класс \\ на какие реальные классы модель выбрала этот класс: \\n {labels_results}\")"
      ],
      "metadata": {
        "colab": {
          "base_uri": "https://localhost:8080/"
        },
        "id": "uYh0SDCb2pE-",
        "outputId": "af3b6d31-9680-4c0a-b13b-ea2eb4dd860a"
      },
      "execution_count": 79,
      "outputs": [
        {
          "output_type": "stream",
          "name": "stdout",
          "text": [
            "Распределение: реальный класс \\ на какие реальные классы модель выбрала этот класс: \n",
            " {1: {1: 2770, 2: 382, 3: 26175, 4: 673}, 2: {1: 3115, 2: 12, 3: 26385, 4: 488}, 3: {1: 225, 2: 5216, 3: 10951, 4: 13608}, 4: {1: 1740, 2: 91, 3: 9438, 4: 18731}}\n"
          ]
        }
      ]
    },
    {
      "cell_type": "markdown",
      "source": [
        "И посчитаем \"процент неопределенности\" для каждого из класса для простой предобработки и продвинутой"
      ],
      "metadata": {
        "id": "XWMo6rRwMg6j"
      }
    },
    {
      "cell_type": "code",
      "source": [
        "def get_fail_prob(cl):\n",
        "  max_prob = max(cl.values())\n",
        "  total = sum(cl.values()) \n",
        "  return max_prob/total\n",
        "d = {i : f\"{int(get_fail_prob(labels_results[i])*100)}%\" for i in range(1, 5)}\n",
        "print(f\"|Продвинутый препроцессинг|Уверенность в определении класса для каждого из типов текста: {d}\")\n",
        "print(f\"|Простой препроцессинг|    Уверенность в определении класса для каждого из типов текста: {s}\")"
      ],
      "metadata": {
        "id": "4qi4fDmfMpcR",
        "outputId": "fb16e0a9-08ca-4c0e-b77a-aab607a7ff64",
        "colab": {
          "base_uri": "https://localhost:8080/"
        }
      },
      "execution_count": 80,
      "outputs": [
        {
          "output_type": "stream",
          "name": "stdout",
          "text": [
            "|Продвинутый препроцессинг|Уверенность в определении класса для каждого из типов текста: {1: '87%', 2: '87%', 3: '45%', 4: '62%'}\n",
            "|Простой препроцессинг|    Уверенность в определении класса для каждого из типов текста: {1: '67%', 2: '78%', 3: '55%', 4: '73%'}\n"
          ]
        }
      ]
    },
    {
      "cell_type": "markdown",
      "source": [
        "Вывод: После препроцессинга по стоп словам, уменьшение числа используемых слов в зависимости от распределения (с сохранением слов - фактов (NNP)), лемматизации и соединения заголовка с опсианием получаем небольшое изменение в качетсве кластеризации: для двух классов на 20 и 9 % и уменьшили качетсов для двух классов на 10 и 9 процентов. "
      ],
      "metadata": {
        "id": "oFFw-5XF35In"
      }
    }
  ],
  "metadata": {
    "colab": {
      "collapsed_sections": [],
      "name": "PrepareNLP.ipynb",
      "provenance": []
    },
    "kernelspec": {
      "display_name": "Python 3",
      "name": "python3"
    },
    "language_info": {
      "name": "python"
    }
  },
  "nbformat": 4,
  "nbformat_minor": 0
}