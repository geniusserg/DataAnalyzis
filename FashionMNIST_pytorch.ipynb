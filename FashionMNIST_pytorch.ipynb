{
  "nbformat": 4,
  "nbformat_minor": 0,
  "metadata": {
    "colab": {
      "provenance": [],
      "authorship_tag": "ABX9TyNcAK3wtu7zvgbkWCCiMW9b",
      "include_colab_link": true
    },
    "kernelspec": {
      "name": "python3",
      "display_name": "Python 3"
    },
    "language_info": {
      "name": "python"
    },
    "accelerator": "GPU",
    "gpuClass": "standard"
  },
  "cells": [
    {
      "cell_type": "markdown",
      "metadata": {
        "id": "view-in-github",
        "colab_type": "text"
      },
      "source": [
        "<a href=\"https://colab.research.google.com/github/geniusserg/DataAnalyzis/blob/main/FashionMNIST_pytorch.ipynb\" target=\"_parent\"><img src=\"https://colab.research.google.com/assets/colab-badge.svg\" alt=\"Open In Colab\"/></a>"
      ]
    },
    {
      "cell_type": "code",
      "execution_count": 17,
      "metadata": {
        "id": "1x40a_7U2jbr"
      },
      "outputs": [],
      "source": [
        "%matplotlib inline\n",
        "import torch\n",
        "import numpy as np"
      ]
    },
    {
      "cell_type": "markdown",
      "source": [
        "LOAD DATA"
      ],
      "metadata": {
        "id": "OWies4KK6NUH"
      }
    },
    {
      "cell_type": "code",
      "source": [
        "torch.nn.functional.one_hot(torch.tensor(0)).to(torch.float)"
      ],
      "metadata": {
        "colab": {
          "base_uri": "https://localhost:8080/"
        },
        "id": "XvSwdfZrYkPI",
        "outputId": "e764099c-152f-496f-916c-66cd91597f75"
      },
      "execution_count": 23,
      "outputs": [
        {
          "output_type": "execute_result",
          "data": {
            "text/plain": [
              "tensor([1.])"
            ]
          },
          "metadata": {},
          "execution_count": 23
        }
      ]
    },
    {
      "cell_type": "code",
      "source": [
        "from torch.utils.data import Dataset\n",
        "from torchvision import datasets\n",
        "from torchvision.transforms import ToTensor, Lambda\n",
        "import matplotlib.pyplot as plt\n",
        "\n",
        "training_data = datasets.FashionMNIST(\n",
        "    root=\"data\",\n",
        "    train=True,\n",
        "    download=True,\n",
        "    transform=ToTensor(),\n",
        "    target_transform=lambda x: torch.nn.functional.one_hot(torch.tensor(x), num_classes=10).to(torch.float)\n",
        ")\n",
        "\n",
        "test_data = datasets.FashionMNIST(\n",
        "    root=\"data\",\n",
        "    train=False,\n",
        "    download=True,\n",
        "    transform=ToTensor(),\n",
        "    target_transform=lambda x: torch.nn.functional.one_hot(torch.tensor(x), num_classes=10).to(torch.float)\n",
        ")"
      ],
      "metadata": {
        "id": "K26tlqnq54oU"
      },
      "execution_count": 24,
      "outputs": []
    },
    {
      "cell_type": "code",
      "source": [
        "labels_map = {\n",
        "    0: \"T-Shirt\",\n",
        "    1: \"Trouser\",\n",
        "    2: \"Pullover\",\n",
        "    3: \"Dress\",\n",
        "    4: \"Coat\",\n",
        "    5: \"Sandal\",\n",
        "    6: \"Shirt\",\n",
        "    7: \"Sneaker\",\n",
        "    8: \"Bag\",\n",
        "    9: \"Ankle Boot\",\n",
        "}\n",
        "\n",
        "figure = plt.figure(figsize=(12, 6))\n",
        "for i in range(1, 10):\n",
        "  idx = torch.randint(len(training_data), size=(1,)).item()\n",
        "  img, label = training_data[idx]\n",
        "  label = torch.argmax(label).item()\n",
        "  figure.add_subplot(3, 3, i)\n",
        "  plt.title(labels_map[label])\n",
        "  plt.axis(\"off\")\n",
        "  plt.imshow(img.squeeze(), cmap=\"gray\")\n",
        "plt.show()"
      ],
      "metadata": {
        "colab": {
          "base_uri": "https://localhost:8080/",
          "height": 373
        },
        "id": "LeOvNHWv6arT",
        "outputId": "174e1aaa-ad3a-4089-82eb-f7811cdaa505"
      },
      "execution_count": 25,
      "outputs": [
        {
          "output_type": "display_data",
          "data": {
            "text/plain": [
              "<Figure size 864x432 with 9 Axes>"
            ],
            "image/png": "[encoded data removed]"
          },
          "metadata": {
            "needs_background": "light"
          }
        }
      ]
    },
    {
      "cell_type": "markdown",
      "source": [
        "Divide on batches 64"
      ],
      "metadata": {
        "id": "O0YxQLVup1G0"
      }
    },
    {
      "cell_type": "code",
      "source": [
        "from torch.utils.data import DataLoader\n",
        "training_dataloader = DataLoader(training_data, batch_size=64, shuffle=True)\n",
        "validation_dataloader = DataLoader(test_data, batch_size=64, shuffle=True)\n",
        "\n",
        "train_sample, train_label = next(iter(training_dataloader))\n",
        "plt.imshow(train_sample[0].squeeze(), cmap=\"gray\")\n",
        "plt.title(labels_map[np.argmax(train_label[0]).item()])\n",
        "plt.axis(\"off\")\n",
        "plt.show()"
      ],
      "metadata": {
        "id": "D299773q7nds"
      },
      "execution_count": null,
      "outputs": []
    },
    {
      "cell_type": "markdown",
      "source": [
        "Build model. Choose cuda if available"
      ],
      "metadata": {
        "id": "aR7q0e75_SkE"
      }
    },
    {
      "cell_type": "code",
      "source": [
        "device = 'cuda' if torch.cuda.is_available() else 'cpu'\n",
        "print(f\"Using device: {device}\")"
      ],
      "metadata": {
        "colab": {
          "base_uri": "https://localhost:8080/"
        },
        "id": "wtUST0kU-9cv",
        "outputId": "b1808c6d-0ed6-4275-cdf3-e8fa123170ba"
      },
      "execution_count": 27,
      "outputs": [
        {
          "output_type": "stream",
          "name": "stdout",
          "text": [
            "Using device: cpu\n"
          ]
        }
      ]
    },
    {
      "cell_type": "markdown",
      "source": [
        "Linear -> Linear -> Linear (activation: ReLU)"
      ],
      "metadata": {
        "id": "shNNsYyfp6jY"
      }
    },
    {
      "cell_type": "code",
      "source": [
        "class NeuralNetwork(torch.nn.Module):\n",
        "  def __init__(self):\n",
        "    super(NeuralNetwork, self).__init__()\n",
        "    self.flatten = torch.nn.Flatten()\n",
        "    self.linear_relu_stack = torch.nn.Sequential(\n",
        "        torch.nn.Linear(28*28, 512),\n",
        "        torch.nn.ReLU(),\n",
        "        torch.nn.Linear(512, 512),\n",
        "        torch.nn.ReLU(),\n",
        "        torch.nn.Linear(512, 10),\n",
        "        torch.nn.ReLU()\n",
        "    )\n",
        "\n",
        "  def forward(self, x):\n",
        "    x_flatten = self.flatten(x)\n",
        "    y_logits = self.linear_relu_stack(x_flatten)\n",
        "    return y_logits\n",
        "    \n",
        "model = NeuralNetwork().to(device)"
      ],
      "metadata": {
        "id": "dPyx3OOE_i-N"
      },
      "execution_count": 28,
      "outputs": []
    },
    {
      "cell_type": "markdown",
      "source": [
        "Test work of model on random noise and show result"
      ],
      "metadata": {
        "id": "GFkD-nH6ZHAO"
      }
    },
    {
      "cell_type": "code",
      "source": [
        "img_rand = torch.rand(1, 28, 28, device=device)\n",
        "y_logits = model.forward(img_rand)\n",
        "plt.imshow(img_rand.cpu().numpy().squeeze(), cmap=\"gray\")\n",
        "plt.title(\"Random image\")\n",
        "result = torch.nn.Softmax(dim=1)(y_logits)\n",
        "y_pred = torch.argmax(result).item()\n",
        "print(f\"Predicted class {labels_map[y_pred]}\")"
      ],
      "metadata": {
        "colab": {
          "base_uri": "https://localhost:8080/",
          "height": 299
        },
        "id": "cVZOOKX-A92w",
        "outputId": "e883d243-4f27-4678-8f47-184196b42467"
      },
      "execution_count": 29,
      "outputs": [
        {
          "output_type": "stream",
          "name": "stdout",
          "text": [
            "Predicted class T-Shirt\n"
          ]
        },
        {
          "output_type": "display_data",
          "data": {
            "text/plain": [
              "<Figure size 432x288 with 1 Axes>"
            ],
            "image/png": "[encoded data removed]"
          },
          "metadata": {
            "needs_background": "light"
          }
        }
      ]
    },
    {
      "cell_type": "markdown",
      "source": [
        "See example of simple network with cross-entropy"
      ],
      "metadata": {
        "id": "AZeVhRlXDIF2"
      }
    },
    {
      "cell_type": "code",
      "source": [
        "x = torch.ones(5)\n",
        "y = torch.tensor([1.])\n",
        "w = torch.randn(5, requires_grad=True)\n",
        "b = torch.randn(1, requires_grad=True)\n",
        "s = torch.matmul(w, x)+ b\n",
        "result = torch.nn.functional.binary_cross_entropy_with_logits(s, y)\n",
        "result"
      ],
      "metadata": {
        "colab": {
          "base_uri": "https://localhost:8080/"
        },
        "id": "dxlUIjxqB8JY",
        "outputId": "41945b17-222a-4215-c53f-36d153972190"
      },
      "execution_count": 30,
      "outputs": [
        {
          "output_type": "execute_result",
          "data": {
            "text/plain": [
              "tensor(0.0027, grad_fn=<BinaryCrossEntropyWithLogitsBackward0>)"
            ]
          },
          "metadata": {},
          "execution_count": 30
        }
      ]
    },
    {
      "cell_type": "markdown",
      "source": [
        "## Learning"
      ],
      "metadata": {
        "id": "DEJOUXgoF7RC"
      }
    },
    {
      "cell_type": "markdown",
      "source": [
        "Define aprams"
      ],
      "metadata": {
        "id": "An7yHjyqqPji"
      }
    },
    {
      "cell_type": "code",
      "source": [
        "learning_rate = 1e-3\n",
        "batch_size = 64\n",
        "epochs = 5"
      ],
      "metadata": {
        "id": "kl1lwKYbEQYq"
      },
      "execution_count": 31,
      "outputs": []
    },
    {
      "cell_type": "markdown",
      "source": [
        "Testing loop function with accuracy and errror"
      ],
      "metadata": {
        "id": "snEUI-oYkeOd"
      }
    },
    {
      "cell_type": "code",
      "source": [
        "def test_loop(dataloader, model, loss_fn):\n",
        "    dataset_len = len(dataloader.dataset)\n",
        "    correct = 0\n",
        "    error = 0\n",
        "    with torch.no_grad():\n",
        "      for X, y in dataloader:\n",
        "        X = X.to(device)\n",
        "        pred = model(X)\n",
        "        y = y.to(device)\n",
        "        correct += (pred.argmax(1) == y.argmax(1)).type(torch.float).sum().item()\n",
        "        error += loss_fn(pred, y).item()\n",
        "      print(f\"Accuracy: {correct/dataset_len}, error: {error}\")\n",
        "\n",
        "test_loop(validation_dataloader, model, torch.nn.CrossEntropyLoss())"
      ],
      "metadata": {
        "colab": {
          "base_uri": "https://localhost:8080/"
        },
        "id": "tZd0dLHua4Oh",
        "outputId": "62ce014b-a663-486a-ae1b-85731dc8420e"
      },
      "execution_count": 34,
      "outputs": [
        {
          "output_type": "stream",
          "name": "stdout",
          "text": [
            "Accuracy: 0.1185, error: 361.4322807788849\n"
          ]
        }
      ]
    },
    {
      "cell_type": "markdown",
      "source": [
        "Train model\n",
        "optimizer - SGD\n",
        "loss - CrossEntropy"
      ],
      "metadata": {
        "id": "YhUCk-SfqU1Y"
      }
    },
    {
      "cell_type": "code",
      "source": [
        "def train_loop(dataloader, model, loss_fn, optimizer):\n",
        "    dataset_len = len(dataloader.dataset)\n",
        "    for batch, (X, y) in enumerate(dataloader):\n",
        "      X = X.to(device)\n",
        "      y = y.to(device)\n",
        "      pred = model(X)\n",
        "      loss = loss_fn(pred, y)\n",
        "\n",
        "      optimizer.zero_grad()\n",
        "      loss.backward()\n",
        "      optimizer.step()\n",
        "\n",
        "      if (batch % 10000 == 0):\n",
        "        loss, progress = loss_fn(pred, y), batch*len(X)\n",
        "        print(f\"     - Training: loss: {loss}. Progress: {progress}/{dataset_len} ({round(progress*100/dataset_len, 2)}%)\")\n",
        "\n",
        "for epoch in range(epochs):\n",
        "  print(f\"Epoch Number {epoch}\")\n",
        "  train_loop(training_dataloader, model, torch.nn.CrossEntropyLoss(), torch.optim.SGD(model.parameters(), learning_rate))\n",
        "  print(\"Testing: \")\n",
        "  test_loop(validation_dataloader, model, torch.nn.CrossEntropyLoss())"
      ],
      "metadata": {
        "colab": {
          "base_uri": "https://localhost:8080/",
          "height": 1000
        },
        "id": "4SnJXjM8F-3k",
        "outputId": "dce3974b-f957-4a07-8152-88587802e3de"
      },
      "execution_count": 35,
      "outputs": [
        {
          "output_type": "stream",
          "name": "stdout",
          "text": [
            "Epoch Number 0\n",
            "     - Training: loss: 2.302645444869995. Progress: 0/60000 (0.0%)\n",
            "Testing: \n",
            "Accuracy: 0.2729, error: 353.314493894577\n",
            "Epoch Number 1\n",
            "     - Training: loss: 2.2709462642669678. Progress: 0/60000 (0.0%)\n",
            "Testing: \n",
            "Accuracy: 0.3433, error: 343.7960295677185\n",
            "Epoch Number 2\n",
            "     - Training: loss: 2.1582212448120117. Progress: 0/60000 (0.0%)\n",
            "Testing: \n",
            "Accuracy: 0.3779, error: 332.4918920993805\n",
            "Epoch Number 3\n",
            "     - Training: loss: 2.0935065746307373. Progress: 0/60000 (0.0%)\n",
            "Testing: \n",
            "Accuracy: 0.393, error: 321.5255368947983\n",
            "Epoch Number 4\n",
            "     - Training: loss: 2.096877098083496. Progress: 0/60000 (0.0%)\n",
            "Testing: \n",
            "Accuracy: 0.3945, error: 308.7107038497925\n",
            "Epoch Number 5\n",
            "     - Training: loss: 1.9368432760238647. Progress: 0/60000 (0.0%)\n",
            "Testing: \n",
            "Accuracy: 0.4683, error: 297.4461957216263\n",
            "Epoch Number 6\n",
            "     - Training: loss: 1.7837176322937012. Progress: 0/60000 (0.0%)\n",
            "Testing: \n",
            "Accuracy: 0.4455, error: 286.9308692216873\n",
            "Epoch Number 7\n",
            "     - Training: loss: 1.8382954597473145. Progress: 0/60000 (0.0%)\n",
            "Testing: \n",
            "Accuracy: 0.4402, error: 277.865031003952\n",
            "Epoch Number 8\n",
            "     - Training: loss: 2.020707845687866. Progress: 0/60000 (0.0%)\n",
            "Testing: \n",
            "Accuracy: 0.4423, error: 270.35196030139923\n",
            "Epoch Number 9\n",
            "     - Training: loss: 1.823868989944458. Progress: 0/60000 (0.0%)\n"
          ]
        },
        {
          "output_type": "error",
          "ename": "KeyboardInterrupt",
          "evalue": "ignored",
          "traceback": [
            "\u001b[0;31m---------------------------------------------------------------------------\u001b[0m",
            "\u001b[0;31mKeyboardInterrupt\u001b[0m                         Traceback (most recent call last)",
            "\u001b[0;32m<ipython-input-35-ac2e7f79aa99>\u001b[0m in \u001b[0;36m<module>\u001b[0;34m\u001b[0m\n\u001b[1;32m     17\u001b[0m \u001b[0;32mfor\u001b[0m \u001b[0mepoch\u001b[0m \u001b[0;32min\u001b[0m \u001b[0mrange\u001b[0m\u001b[0;34m(\u001b[0m\u001b[0mepochs\u001b[0m\u001b[0;34m)\u001b[0m\u001b[0;34m:\u001b[0m\u001b[0;34m\u001b[0m\u001b[0;34m\u001b[0m\u001b[0m\n\u001b[1;32m     18\u001b[0m   \u001b[0mprint\u001b[0m\u001b[0;34m(\u001b[0m\u001b[0;34mf\"Epoch Number {epoch}\"\u001b[0m\u001b[0;34m)\u001b[0m\u001b[0;34m\u001b[0m\u001b[0;34m\u001b[0m\u001b[0m\n\u001b[0;32m---> 19\u001b[0;31m   \u001b[0mtrain_loop\u001b[0m\u001b[0;34m(\u001b[0m\u001b[0mtraining_dataloader\u001b[0m\u001b[0;34m,\u001b[0m \u001b[0mmodel\u001b[0m\u001b[0;34m,\u001b[0m \u001b[0mtorch\u001b[0m\u001b[0;34m.\u001b[0m\u001b[0mnn\u001b[0m\u001b[0;34m.\u001b[0m\u001b[0mCrossEntropyLoss\u001b[0m\u001b[0;34m(\u001b[0m\u001b[0;34m)\u001b[0m\u001b[0;34m,\u001b[0m \u001b[0mtorch\u001b[0m\u001b[0;34m.\u001b[0m\u001b[0moptim\u001b[0m\u001b[0;34m.\u001b[0m\u001b[0mSGD\u001b[0m\u001b[0;34m(\u001b[0m\u001b[0mmodel\u001b[0m\u001b[0;34m.\u001b[0m\u001b[0mparameters\u001b[0m\u001b[0;34m(\u001b[0m\u001b[0;34m)\u001b[0m\u001b[0;34m,\u001b[0m \u001b[0mlearning_rate\u001b[0m\u001b[0;34m)\u001b[0m\u001b[0;34m)\u001b[0m\u001b[0;34m\u001b[0m\u001b[0;34m\u001b[0m\u001b[0m\n\u001b[0m\u001b[1;32m     20\u001b[0m   \u001b[0mprint\u001b[0m\u001b[0;34m(\u001b[0m\u001b[0;34m\"Testing: \"\u001b[0m\u001b[0;34m)\u001b[0m\u001b[0;34m\u001b[0m\u001b[0;34m\u001b[0m\u001b[0m\n\u001b[1;32m     21\u001b[0m   \u001b[0mtest_loop\u001b[0m\u001b[0;34m(\u001b[0m\u001b[0mvalidation_dataloader\u001b[0m\u001b[0;34m,\u001b[0m \u001b[0mmodel\u001b[0m\u001b[0;34m,\u001b[0m \u001b[0mtorch\u001b[0m\u001b[0;34m.\u001b[0m\u001b[0mnn\u001b[0m\u001b[0;34m.\u001b[0m\u001b[0mCrossEntropyLoss\u001b[0m\u001b[0;34m(\u001b[0m\u001b[0;34m)\u001b[0m\u001b[0;34m)\u001b[0m\u001b[0;34m\u001b[0m\u001b[0;34m\u001b[0m\u001b[0m\n",
            "\u001b[0;32m<ipython-input-35-ac2e7f79aa99>\u001b[0m in \u001b[0;36mtrain_loop\u001b[0;34m(dataloader, model, loss_fn, optimizer)\u001b[0m\n\u001b[1;32m      7\u001b[0m       \u001b[0mloss\u001b[0m \u001b[0;34m=\u001b[0m \u001b[0mloss_fn\u001b[0m\u001b[0;34m(\u001b[0m\u001b[0mpred\u001b[0m\u001b[0;34m,\u001b[0m \u001b[0my\u001b[0m\u001b[0;34m)\u001b[0m\u001b[0;34m\u001b[0m\u001b[0;34m\u001b[0m\u001b[0m\n\u001b[1;32m      8\u001b[0m \u001b[0;34m\u001b[0m\u001b[0m\n\u001b[0;32m----> 9\u001b[0;31m       \u001b[0moptimizer\u001b[0m\u001b[0;34m.\u001b[0m\u001b[0mzero_grad\u001b[0m\u001b[0;34m(\u001b[0m\u001b[0;34m)\u001b[0m\u001b[0;34m\u001b[0m\u001b[0;34m\u001b[0m\u001b[0m\n\u001b[0m\u001b[1;32m     10\u001b[0m       \u001b[0mloss\u001b[0m\u001b[0;34m.\u001b[0m\u001b[0mbackward\u001b[0m\u001b[0;34m(\u001b[0m\u001b[0;34m)\u001b[0m\u001b[0;34m\u001b[0m\u001b[0;34m\u001b[0m\u001b[0m\n\u001b[1;32m     11\u001b[0m       \u001b[0moptimizer\u001b[0m\u001b[0;34m.\u001b[0m\u001b[0mstep\u001b[0m\u001b[0;34m(\u001b[0m\u001b[0;34m)\u001b[0m\u001b[0;34m\u001b[0m\u001b[0;34m\u001b[0m\u001b[0m\n",
            "\u001b[0;32m/usr/local/lib/python3.8/dist-packages/torch/optim/optimizer.py\u001b[0m in \u001b[0;36mzero_grad\u001b[0;34m(self, set_to_none)\u001b[0m\n\u001b[1;32m    277\u001b[0m                                 \u001b[0mp\u001b[0m\u001b[0;34m.\u001b[0m\u001b[0mgrad\u001b[0m\u001b[0;34m.\u001b[0m\u001b[0mrequires_grad_\u001b[0m\u001b[0;34m(\u001b[0m\u001b[0;32mFalse\u001b[0m\u001b[0;34m)\u001b[0m\u001b[0;34m\u001b[0m\u001b[0;34m\u001b[0m\u001b[0m\n\u001b[1;32m    278\u001b[0m                             \u001b[0;32mif\u001b[0m \u001b[0;34m(\u001b[0m\u001b[0;32mnot\u001b[0m \u001b[0mforeach\u001b[0m \u001b[0;32mor\u001b[0m \u001b[0mp\u001b[0m\u001b[0;34m.\u001b[0m\u001b[0mgrad\u001b[0m\u001b[0;34m.\u001b[0m\u001b[0mis_sparse\u001b[0m\u001b[0;34m)\u001b[0m\u001b[0;34m:\u001b[0m\u001b[0;34m\u001b[0m\u001b[0;34m\u001b[0m\u001b[0m\n\u001b[0;32m--> 279\u001b[0;31m                                 \u001b[0mp\u001b[0m\u001b[0;34m.\u001b[0m\u001b[0mgrad\u001b[0m\u001b[0;34m.\u001b[0m\u001b[0mzero_\u001b[0m\u001b[0;34m(\u001b[0m\u001b[0;34m)\u001b[0m\u001b[0;34m\u001b[0m\u001b[0;34m\u001b[0m\u001b[0m\n\u001b[0m\u001b[1;32m    280\u001b[0m                             \u001b[0;32melse\u001b[0m\u001b[0;34m:\u001b[0m\u001b[0;34m\u001b[0m\u001b[0;34m\u001b[0m\u001b[0m\n\u001b[1;32m    281\u001b[0m                                 \u001b[0mper_device_and_dtype_grads\u001b[0m\u001b[0;34m[\u001b[0m\u001b[0mp\u001b[0m\u001b[0;34m.\u001b[0m\u001b[0mgrad\u001b[0m\u001b[0;34m.\u001b[0m\u001b[0mdevice\u001b[0m\u001b[0;34m]\u001b[0m\u001b[0;34m[\u001b[0m\u001b[0mp\u001b[0m\u001b[0;34m.\u001b[0m\u001b[0mgrad\u001b[0m\u001b[0;34m.\u001b[0m\u001b[0mdtype\u001b[0m\u001b[0;34m]\u001b[0m\u001b[0;34m.\u001b[0m\u001b[0mappend\u001b[0m\u001b[0;34m(\u001b[0m\u001b[0mp\u001b[0m\u001b[0;34m.\u001b[0m\u001b[0mgrad\u001b[0m\u001b[0;34m)\u001b[0m\u001b[0;34m\u001b[0m\u001b[0;34m\u001b[0m\u001b[0m\n",
            "\u001b[0;31mKeyboardInterrupt\u001b[0m: "
          ]
        }
      ]
    },
    {
      "cell_type": "markdown",
      "source": [
        "Save model on disk"
      ],
      "metadata": {
        "id": "QQR-qNxBR7Vl"
      }
    },
    {
      "cell_type": "code",
      "source": [
        "torch.save(model.state_dict(), \"FashionMNIST.pth\")\n",
        "print(\"Model trained, evaluated and saved in FashionMNIST.pth\")"
      ],
      "metadata": {
        "colab": {
          "base_uri": "https://localhost:8080/"
        },
        "id": "AdBkLdvqOUVm",
        "outputId": "7f6dfc5b-d7ef-481d-8c91-5a2bba69e680"
      },
      "execution_count": 36,
      "outputs": [
        {
          "output_type": "stream",
          "name": "stdout",
          "text": [
            "Model trained, evaluated and saved in FashionMNIST.pth\n"
          ]
        }
      ]
    },
    {
      "cell_type": "markdown",
      "source": [
        "## Test inference. Load model"
      ],
      "metadata": {
        "id": "G9cJHpICR9Kj"
      }
    },
    {
      "cell_type": "code",
      "source": [
        "model = NeuralNetwork()\n",
        "model.load_state_dict(torch.load(\"FashionMNIST.pth\"))\n",
        "model.eval()"
      ],
      "metadata": {
        "colab": {
          "base_uri": "https://localhost:8080/"
        },
        "id": "jamdB2cbO7so",
        "outputId": "be7932d5-c145-406e-d8c9-9e32d1507f10"
      },
      "execution_count": 37,
      "outputs": [
        {
          "output_type": "execute_result",
          "data": {
            "text/plain": [
              "NeuralNetwork(\n",
              "  (flatten): Flatten(start_dim=1, end_dim=-1)\n",
              "  (linear_relu_stack): Sequential(\n",
              "    (0): Linear(in_features=784, out_features=512, bias=True)\n",
              "    (1): ReLU()\n",
              "    (2): Linear(in_features=512, out_features=512, bias=True)\n",
              "    (3): ReLU()\n",
              "    (4): Linear(in_features=512, out_features=10, bias=True)\n",
              "    (5): ReLU()\n",
              "  )\n",
              ")"
            ]
          },
          "metadata": {},
          "execution_count": 37
        }
      ]
    },
    {
      "cell_type": "markdown",
      "source": [
        "Pick one sample"
      ],
      "metadata": {
        "id": "qGpGNkFWqgXY"
      }
    },
    {
      "cell_type": "code",
      "source": [
        "t = next(iter(validation_dataloader))\n",
        "img = t[0][0]\n",
        "label = torch.argmax(t[1][0]).item()\n",
        "plt.imshow(img.squeeze(), cmap=\"gray\")\n",
        "plt.title(labels_map[label])\n",
        "plt.show()\n",
        "with torch.no_grad():\n",
        "  model.to(device)\n",
        "  img = img.to(device)\n",
        "  pred = model(img)\n",
        "  print(\"Predicted: *\", labels_map[pred.argmax(1).cpu().item()], \"* \\n But real: *\", labels_map[label], \"*\")"
      ],
      "metadata": {
        "colab": {
          "base_uri": "https://localhost:8080/",
          "height": 335
        },
        "id": "P95aj20xPSI8",
        "outputId": "19952b3f-e91d-42a3-da22-4fec594b86ee"
      },
      "execution_count": 55,
      "outputs": [
        {
          "output_type": "stream",
          "name": "stdout",
          "text": [
            "SIZE torch.Size([1, 28, 28])\n"
          ]
        },
        {
          "output_type": "display_data",
          "data": {
            "text/plain": [
              "<Figure size 432x288 with 1 Axes>"
            ],
            "image/png": "[encoded data removed]"
          },
          "metadata": {
            "needs_background": "light"
          }
        },
        {
          "output_type": "stream",
          "name": "stdout",
          "text": [
            "Predicted: * Coat * \n",
            " But real: * Bag *\n"
          ]
        }
      ]
    },
    {
      "cell_type": "markdown",
      "source": [
        "Draw image here: \n",
        "\n",
        "Reference: https://gist.github.com/korakot/8409b3feec20f159d8a50b0a811d3bca"
      ],
      "metadata": {
        "id": "OyBGA44ueZHg"
      }
    },
    {
      "cell_type": "code",
      "source": [
        "from IPython.display import HTML, Image\n",
        "from google.colab.output import eval_js\n",
        "from base64 import b64decode\n",
        "import os\n",
        "from PIL import Image\n",
        "import cv2\n",
        "\n",
        "canvas_html = \"\"\"\n",
        "<canvas width=%d height=%d></canvas>\n",
        "<button>Finish</button>\n",
        "<script>\n",
        "var canvas = document.querySelector('canvas')\n",
        "var ctx = canvas.getContext('2d')\n",
        "ctx.lineWidth = %d\n",
        "var button = document.querySelector('button')\n",
        "var mouse = {x: 0, y: 0}\n",
        "canvas.addEventListener('mousemove', function(e) {\n",
        "  mouse.x = e.pageX - this.offsetLeft\n",
        "  mouse.y = e.pageY - this.offsetTop\n",
        "})\n",
        "canvas.onmousedown = ()=>{\n",
        "  ctx.beginPath()\n",
        "  ctx.moveTo(mouse.x, mouse.y)\n",
        "  canvas.addEventListener('mousemove', onPaint)\n",
        "}\n",
        "canvas.onmouseup = ()=>{\n",
        "  canvas.removeEventListener('mousemove', onPaint)\n",
        "}\n",
        "var onPaint = ()=>{\n",
        "  ctx.lineTo(mouse.x, mouse.y)\n",
        "  ctx.stroke()\n",
        "}\n",
        "var data = new Promise(resolve=>{\n",
        "  button.onclick = ()=>{\n",
        "    resolve(canvas.toDataURL('image/png'))\n",
        "  }\n",
        "})\n",
        "</script>\n",
        "\"\"\"\n",
        "\n",
        "def draw(filename='drawing.png', w=400, h=200, line_width=1):\n",
        "  display(HTML(canvas_html % (w, h, line_width)))\n",
        "  data = eval_js(\"data\")\n",
        "  binary = b64decode(data.split(',')[1])\n",
        "  with open(filename, 'wb') as f:\n",
        "    f.write(binary)\n",
        "  return len(binary)\n",
        "\n",
        "def load_image(image_path='/content/drawing.png'):\n",
        "    img = Image.open(image_path)\n",
        "    img = np.array(img)\n",
        "    img = cv2.resize(img, dsize=(28, 28))\n",
        "    img = img.mean(2) / 255\n",
        "    return img\n",
        "\n",
        "\n",
        "def inference(image_path='/content/drawing.png'):\n",
        "  img = load_image(image_path)\n",
        "  img = img.reshape((1, 28, 28))\n",
        "  img = torch.tensor(img).to(torch.float).to(device)\n",
        "  model.to(device)\n",
        "  with torch.no_grad():\n",
        "    y_pred = model(img)\n",
        "  return labels_map[pred.argmax(1).cpu().item()]\n",
        "\n",
        "draw()\n",
        "\n",
        "print(\"Model prediction: \", inference())\n"
      ],
      "metadata": {
        "id": "eFrZ76tPdbNk"
      },
      "execution_count": null,
      "outputs": []
    },
    {
      "cell_type": "markdown",
      "source": [
        "And load real image![871e12d6-9bb2-427c-a61c-686f8f4478fe.webp](data:image/webp;base64,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)"
      ],
      "metadata": {
        "id": "o9-xE0Npqj6y"
      }
    },
    {
      "cell_type": "code",
      "source": [
        "plt.imshow(load_image(\"/content/shoe.png\"))\n",
        "plt.title(\"Shoes\")\n",
        "print(\"Model prediction: \", inference(\"/content/shoe.png\"))"
      ],
      "metadata": {
        "colab": {
          "base_uri": "https://localhost:8080/",
          "height": 283
        },
        "id": "NM_VuKbWofTD",
        "outputId": "018396fa-588f-4fcf-a6af-d811a633a2a4"
      },
      "execution_count": 94,
      "outputs": [
        {
          "output_type": "execute_result",
          "data": {
            "text/plain": [
              "<matplotlib.image.AxesImage at 0x7f6846d9b910>"
            ]
          },
          "metadata": {},
          "execution_count": 94
        },
        {
          "output_type": "display_data",
          "data": {
            "text/plain": [
              "<Figure size 432x288 with 1 Axes>"
            ],
            "image/png": "[encoded data removed]"
          },
          "metadata": {
            "needs_background": "light"
          }
        }
      ]
    },
    {
      "cell_type": "markdown",
      "source": [
        "Works correctly!"
      ],
      "metadata": {
        "id": "9G_dFH2wqxI5"
      }
    }
  ]
}