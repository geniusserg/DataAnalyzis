{
 "cells": [
  {
   "cell_type": "markdown",
   "metadata": {},
   "source": [
    "# Digits image recognition"
   ]
  },
  {
   "cell_type": "code",
   "execution_count": 1,
   "metadata": {},
   "outputs": [],
   "source": [
    "import pandas as pd\n",
    "import numpy as np\n",
    "import tensorflow as tf\n",
    "import matplotlib.pyplot as plt\n",
    "from tensorflow.keras.preprocessing.image import ImageDataGenerator\n",
    "from tensorflow.keras import Sequential\n",
    "from tensorflow.keras.layers import Conv2D, MaxPool2D, BatchNormalization, Dense, Dropout, Flatten\n",
    "from tensorflow.keras.optimizers import Adam"
   ]
  },
  {
   "cell_type": "code",
   "execution_count": 2,
   "metadata": {},
   "outputs": [
    {
     "data": {
      "text/plain": [
       "(42000, 785)"
      ]
     },
     "execution_count": 2,
     "metadata": {},
     "output_type": "execute_result"
    }
   ],
   "source": [
    "df = pd.read_csv(\"train.csv\")\n",
    "df.shape"
   ]
  },
  {
   "cell_type": "code",
   "execution_count": 3,
   "metadata": {},
   "outputs": [],
   "source": [
    "y = df[\"label\"]\n",
    "X = df.drop([\"label\"], axis=1)"
   ]
  },
  {
   "cell_type": "code",
   "execution_count": 8,
   "metadata": {},
   "outputs": [],
   "source": [
    "X = np.array(X).reshape((-1, 28, 28, 1)) / 255"
   ]
  },
  {
   "cell_type": "code",
   "execution_count": 9,
   "metadata": {},
   "outputs": [],
   "source": [
    "gen = ImageDataGenerator(validation_split = 0.2)"
   ]
  },
  {
   "cell_type": "code",
   "execution_count": 10,
   "metadata": {},
   "outputs": [],
   "source": [
    "def Charts(history):\n",
    "    plt.plot(history.history['loss']) # Loss function value on train\n",
    "    plt.plot(history.history['val_loss']) # Loss on validation dataset\n",
    "    plt.title('model loss') \n",
    "    plt.ylabel('loss')\n",
    "    plt.xlabel('epoch')\n",
    "    plt.legend(['train', 'val'], loc='upper left')\n",
    "    plt.show()\n",
    "    \n",
    "    plt.plot(history.history['accuracy']) # Accuracy on train\n",
    "    plt.plot(history.history['val_accuracy']) # Accuracy on validation\n",
    "    plt.title('model accuracy')\n",
    "    plt.ylabel('accuracy')\n",
    "    plt.xlabel('epoch')\n",
    "    plt.legend(['train', 'val'], loc='upper left')\n",
    "    plt.show()"
   ]
  },
  {
   "cell_type": "code",
   "execution_count": 12,
   "metadata": {},
   "outputs": [
    {
     "name": "stdout",
     "output_type": "stream",
     "text": [
      "Model: \"sequential\"\n",
      "_________________________________________________________________\n",
      " Layer (type)                Output Shape              Param #   \n",
      "=================================================================\n",
      " conv2d (Conv2D)             (None, 28, 28, 32)        320       \n",
      "                                                                 \n",
      " max_pooling2d (MaxPooling2D  (None, 14, 14, 32)       0         \n",
      " )                                                               \n",
      "                                                                 \n",
      " batch_normalization (BatchN  (None, 14, 14, 32)       128       \n",
      " ormalization)                                                   \n",
      "                                                                 \n",
      " conv2d_1 (Conv2D)           (None, 14, 14, 64)        18496     \n",
      "                                                                 \n",
      " max_pooling2d_1 (MaxPooling  (None, 7, 7, 64)         0         \n",
      " 2D)                                                             \n",
      "                                                                 \n",
      " batch_normalization_1 (Batc  (None, 7, 7, 64)         256       \n",
      " hNormalization)                                                 \n",
      "                                                                 \n",
      " conv2d_2 (Conv2D)           (None, 7, 7, 128)         73856     \n",
      "                                                                 \n",
      " max_pooling2d_2 (MaxPooling  (None, 3, 3, 128)        0         \n",
      " 2D)                                                             \n",
      "                                                                 \n",
      " batch_normalization_2 (Batc  (None, 3, 3, 128)        512       \n",
      " hNormalization)                                                 \n",
      "                                                                 \n",
      " flatten (Flatten)           (None, 1152)              0         \n",
      "                                                                 \n",
      " dropout (Dropout)           (None, 1152)              0         \n",
      "                                                                 \n",
      " dense (Dense)               (None, 128)               147584    \n",
      "                                                                 \n",
      " dropout_1 (Dropout)         (None, 128)               0         \n",
      "                                                                 \n",
      " dense_1 (Dense)             (None, 10)                1290      \n",
      "                                                                 \n",
      "=================================================================\n",
      "Total params: 242,442\n",
      "Trainable params: 241,994\n",
      "Non-trainable params: 448\n",
      "_________________________________________________________________\n"
     ]
    }
   ],
   "source": [
    "from pickletools import optimize\n",
    "\n",
    "\n",
    "model = Sequential()\n",
    "model.add(Conv2D(32, 3, padding=\"same\", kernel_initializer=\"he_normal\", activation=\"relu\", input_shape=(28, 28, 1)))\n",
    "model.add(MaxPool2D(2))\n",
    "model.add(BatchNormalization())\n",
    "\n",
    "model.add(Conv2D(64, 3, padding=\"same\", kernel_initializer=\"he_normal\", activation=\"relu\"))\n",
    "model.add(MaxPool2D(2))\n",
    "model.add(BatchNormalization())\n",
    "\n",
    "model.add(Conv2D(128, 3, padding = 'same', kernel_initializer = 'he_normal', activation = 'relu'))\n",
    "model.add(MaxPool2D(2))\n",
    "model.add(BatchNormalization())\n",
    "\n",
    "model.add(Flatten())\n",
    "model.add(Dropout(0.3))\n",
    "\n",
    "model.add(Dense(128, kernel_initializer=\"he_normal\", activation=\"relu\"))\n",
    "model.add(Dropout(0.2))\n",
    "model.add(Dense(10, activation=\"softmax\"))\n",
    "\n",
    "model.summary()\n",
    "model.compile(optimizer=Adam(learning_rate=3e-1), loss = 'sparse_categorical_crossentropy', metrics = ['accuracy'])\n"
   ]
  },
  {
   "cell_type": "code",
   "execution_count": 11,
   "metadata": {},
   "outputs": [],
   "source": [
    "class CustomCallbacks(tf.keras.callbacks.Callback):\n",
    "    def on_epoch_end(self, epoch, logs = None):\n",
    "        acc = logs['accuracy']\n",
    "        val_acc = logs['val_accuracy']\n",
    "        if acc >= 0.999 and val_acc >= 0.99:\n",
    "            self.model.stop_training = True"
   ]
  },
  {
   "cell_type": "code",
   "execution_count": 13,
   "metadata": {},
   "outputs": [
    {
     "name": "stdout",
     "output_type": "stream",
     "text": [
      "Epoch 1/200\n",
      "21/21 [==============================] - 33s 2s/step - loss: 42.2438 - accuracy: 0.1090 - val_loss: 7796.6465 - val_accuracy: 0.1290\n",
      "Epoch 2/200\n",
      "21/21 [==============================] - 36s 2s/step - loss: 2.3331 - accuracy: 0.1062 - val_loss: 1299.5470 - val_accuracy: 0.0977\n",
      "Epoch 3/200\n",
      "21/21 [==============================] - 38s 2s/step - loss: 2.3409 - accuracy: 0.1049 - val_loss: 309.7121 - val_accuracy: 0.1399\n",
      "Epoch 4/200\n",
      "21/21 [==============================] - 25s 1s/step - loss: 3.0640 - accuracy: 0.1111 - val_loss: 26048.7441 - val_accuracy: 0.1010\n",
      "Epoch 5/200\n",
      "21/21 [==============================] - 38s 2s/step - loss: 2.3019 - accuracy: 0.1102 - val_loss: 13016.3799 - val_accuracy: 0.1010\n",
      "Epoch 6/200\n",
      "21/21 [==============================] - 40s 2s/step - loss: 2.3019 - accuracy: 0.1098 - val_loss: 3498.0640 - val_accuracy: 0.1157\n",
      "Epoch 7/200\n",
      "21/21 [==============================] - 38s 2s/step - loss: 2.3020 - accuracy: 0.1083 - val_loss: 934.7879 - val_accuracy: 0.1651\n",
      "Epoch 8/200\n",
      "21/21 [==============================] - 36s 2s/step - loss: 2.3020 - accuracy: 0.1087 - val_loss: 159.4290 - val_accuracy: 0.1858\n",
      "Epoch 9/200\n",
      "21/21 [==============================] - 21s 978ms/step - loss: 2.3022 - accuracy: 0.1118 - val_loss: 15.1511 - val_accuracy: 0.1326\n",
      "Epoch 10/200\n",
      "21/21 [==============================] - 17s 832ms/step - loss: 2.3026 - accuracy: 0.1075 - val_loss: 2.4362 - val_accuracy: 0.1201\n",
      "Epoch 11/200\n",
      "21/21 [==============================] - 17s 828ms/step - loss: 2.3025 - accuracy: 0.1090 - val_loss: 2.3005 - val_accuracy: 0.1118\n",
      "Epoch 12/200\n",
      "21/21 [==============================] - 33s 2s/step - loss: 2.3027 - accuracy: 0.1063 - val_loss: 2.3020 - val_accuracy: 0.1102\n",
      "Epoch 13/200\n",
      "21/21 [==============================] - 37s 2s/step - loss: 2.3027 - accuracy: 0.1086 - val_loss: 2.3037 - val_accuracy: 0.1004\n",
      "Epoch 14/200\n",
      "21/21 [==============================] - 37s 2s/step - loss: 2.3024 - accuracy: 0.1083 - val_loss: 2.3016 - val_accuracy: 0.1102\n",
      "Epoch 15/200\n",
      "21/21 [==============================] - 37s 2s/step - loss: 2.3034 - accuracy: 0.1085 - val_loss: 2.3058 - val_accuracy: 0.1102\n",
      "Epoch 16/200\n",
      "21/21 [==============================] - 36s 2s/step - loss: 2.3038 - accuracy: 0.1071 - val_loss: 2.3019 - val_accuracy: 0.1037\n",
      "Epoch 17/200\n",
      "21/21 [==============================] - 37s 2s/step - loss: 2.3021 - accuracy: 0.1096 - val_loss: 2.3033 - val_accuracy: 0.1102\n",
      "Epoch 18/200\n",
      "21/21 [==============================] - 37s 2s/step - loss: 2.3027 - accuracy: 0.1087 - val_loss: 2.3025 - val_accuracy: 0.1037\n",
      "Epoch 19/200\n",
      "21/21 [==============================] - 36s 2s/step - loss: 2.3022 - accuracy: 0.1090 - val_loss: 2.3025 - val_accuracy: 0.1102\n",
      "Epoch 20/200\n",
      "21/21 [==============================] - 37s 2s/step - loss: 2.3022 - accuracy: 0.1088 - val_loss: 2.3043 - val_accuracy: 0.1102\n",
      "Epoch 21/200\n",
      "21/21 [==============================] - 36s 2s/step - loss: 2.3034 - accuracy: 0.1103 - val_loss: 2.3036 - val_accuracy: 0.1102\n",
      "Epoch 22/200\n",
      "21/21 [==============================] - 35s 2s/step - loss: 2.3030 - accuracy: 0.1085 - val_loss: 2.3031 - val_accuracy: 0.1102\n",
      "Epoch 23/200\n",
      "21/21 [==============================] - 35s 2s/step - loss: 2.3041 - accuracy: 0.1054 - val_loss: 2.3021 - val_accuracy: 0.0999\n",
      "Epoch 24/200\n",
      "21/21 [==============================] - 36s 2s/step - loss: 2.3028 - accuracy: 0.1063 - val_loss: 2.3066 - val_accuracy: 0.1037\n",
      "Epoch 25/200\n",
      "21/21 [==============================] - 35s 2s/step - loss: 2.3040 - accuracy: 0.1070 - val_loss: 2.3031 - val_accuracy: 0.1102\n",
      "Epoch 26/200\n",
      "21/21 [==============================] - 35s 2s/step - loss: 2.3045 - accuracy: 0.1050 - val_loss: 2.3028 - val_accuracy: 0.1004\n",
      "Epoch 27/200\n",
      "21/21 [==============================] - 34s 2s/step - loss: 2.3046 - accuracy: 0.1069 - val_loss: 2.3051 - val_accuracy: 0.1102\n",
      "Epoch 28/200\n",
      "21/21 [==============================] - 21s 997ms/step - loss: 2.3039 - accuracy: 0.1042 - val_loss: 2.3051 - val_accuracy: 0.1102\n",
      "Epoch 29/200\n",
      "21/21 [==============================] - 35s 2s/step - loss: 2.3029 - accuracy: 0.1115 - val_loss: 2.3025 - val_accuracy: 0.1102\n",
      "Epoch 30/200\n",
      "21/21 [==============================] - 35s 2s/step - loss: 2.3033 - accuracy: 0.1054 - val_loss: 2.3040 - val_accuracy: 0.1004\n",
      "Epoch 31/200\n",
      "21/21 [==============================] - 36s 2s/step - loss: 2.3029 - accuracy: 0.1037 - val_loss: 2.3033 - val_accuracy: 0.0999\n",
      "Epoch 32/200\n",
      "21/21 [==============================] - 35s 2s/step - loss: 2.3031 - accuracy: 0.1079 - val_loss: 2.3020 - val_accuracy: 0.0992\n",
      "Epoch 33/200\n",
      "21/21 [==============================] - 35s 2s/step - loss: 2.3030 - accuracy: 0.1046 - val_loss: 2.3040 - val_accuracy: 0.1037\n",
      "Epoch 34/200\n",
      "21/21 [==============================] - 36s 2s/step - loss: 2.3034 - accuracy: 0.1083 - val_loss: 2.3032 - val_accuracy: 0.1004\n",
      "Epoch 35/200\n",
      "21/21 [==============================] - 35s 2s/step - loss: 2.3041 - accuracy: 0.1035 - val_loss: 2.3038 - val_accuracy: 0.1102\n",
      "Epoch 36/200\n",
      "21/21 [==============================] - 36s 2s/step - loss: 2.3044 - accuracy: 0.1063 - val_loss: 2.3036 - val_accuracy: 0.1102\n",
      "Epoch 37/200\n",
      "21/21 [==============================] - 35s 2s/step - loss: 2.3036 - accuracy: 0.1056 - val_loss: 2.3033 - val_accuracy: 0.1051\n",
      "Epoch 38/200\n",
      "21/21 [==============================] - 35s 2s/step - loss: 2.3047 - accuracy: 0.1062 - val_loss: 2.3029 - val_accuracy: 0.1102\n",
      "Epoch 39/200\n",
      "21/21 [==============================] - 36s 2s/step - loss: 2.3047 - accuracy: 0.1048 - val_loss: 2.3062 - val_accuracy: 0.0999\n",
      "Epoch 40/200\n",
      "21/21 [==============================] - 35s 2s/step - loss: 2.3048 - accuracy: 0.1027 - val_loss: 2.3043 - val_accuracy: 0.1004\n",
      "Epoch 41/200\n",
      "21/21 [==============================] - 34s 2s/step - loss: 2.3049 - accuracy: 0.1074 - val_loss: 2.3024 - val_accuracy: 0.1051\n",
      "Epoch 42/200\n",
      "21/21 [==============================] - 18s 843ms/step - loss: 2.3038 - accuracy: 0.1089 - val_loss: 2.3043 - val_accuracy: 0.1102\n",
      "Epoch 43/200\n",
      "21/21 [==============================] - 34s 2s/step - loss: 2.3034 - accuracy: 0.1055 - val_loss: 2.3055 - val_accuracy: 0.1004\n",
      "Epoch 44/200\n",
      "21/21 [==============================] - 32s 2s/step - loss: 2.3038 - accuracy: 0.1049 - val_loss: 2.3036 - val_accuracy: 0.1102\n",
      "Epoch 45/200\n",
      "21/21 [==============================] - 31s 1s/step - loss: 2.3027 - accuracy: 0.1088 - val_loss: 2.3028 - val_accuracy: 0.1051\n",
      "Epoch 46/200\n",
      "21/21 [==============================] - 32s 2s/step - loss: 2.3037 - accuracy: 0.1032 - val_loss: 2.3040 - val_accuracy: 0.1037\n",
      "Epoch 47/200\n",
      "21/21 [==============================] - 31s 1s/step - loss: 2.3039 - accuracy: 0.1071 - val_loss: 2.3036 - val_accuracy: 0.1102\n",
      "Epoch 48/200\n",
      "21/21 [==============================] - 34s 2s/step - loss: 2.3030 - accuracy: 0.1053 - val_loss: 2.3062 - val_accuracy: 0.1102\n",
      "Epoch 49/200\n",
      "21/21 [==============================] - 34s 2s/step - loss: 2.3033 - accuracy: 0.1082 - val_loss: 2.3087 - val_accuracy: 0.1004\n",
      "Epoch 50/200\n",
      "21/21 [==============================] - 28s 1s/step - loss: 2.3049 - accuracy: 0.1048 - val_loss: 2.3028 - val_accuracy: 0.1037\n",
      "Epoch 51/200\n",
      "16/21 [=====================>........] - ETA: 3s - loss: 2.3024 - accuracy: 0.1095"
     ]
    }
   ],
   "source": [
    "history = model.fit(gen.flow(X, y = y, subset = 'training', batch_size = 1600), validation_data=gen.flow(X, y = y, subset = 'validation', batch_size = 1600),\n",
    "                    epochs = 200, verbose = 1, callbacks = [CustomCallbacks()])\n",
    "Charts(history)"
   ]
  }
 ],
 "metadata": {
  "kernelspec": {
   "display_name": "Python 3.10.5 64-bit",
   "language": "python",
   "name": "python3"
  },
  "language_info": {
   "codemirror_mode": {
    "name": "ipython",
    "version": 3
   },
   "file_extension": ".py",
   "mimetype": "text/x-python",
   "name": "python",
   "nbconvert_exporter": "python",
   "pygments_lexer": "ipython3",
   "version": "3.10.5"
  },
  "orig_nbformat": 4,
  "vscode": {
   "interpreter": {
    "hash": "369f2c481f4da34e4445cda3fffd2e751bd1c4d706f27375911949ba6bb62e1c"
   }
  }
 },
 "nbformat": 4,
 "nbformat_minor": 2
}
