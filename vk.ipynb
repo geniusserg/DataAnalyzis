{
  "cells": [
    {
      "cell_type": "markdown",
      "metadata": {
        "id": "view-in-github",
        "colab_type": "text"
      },
      "source": [
        "<a href=\"https://colab.research.google.com/github/geniusserg/DataAnalyzis/blob/main/vk.ipynb\" target=\"_parent\"><img src=\"https://colab.research.google.com/assets/colab-badge.svg\" alt=\"Open In Colab\"/></a>"
      ]
    },
    {
      "cell_type": "code",
      "execution_count": 1,
      "metadata": {
        "id": "Dmz-nTZXwnRw"
      },
      "outputs": [],
      "source": [
        "import pandas as pd\n",
        "import seaborn as sns\n",
        "import matplotlib.pyplot as plt"
      ]
    },
    {
      "cell_type": "code",
      "source": [
        "!wget https://cups.online/api_v2/task/1417/177\n"
      ],
      "metadata": {
        "colab": {
          "base_uri": "https://localhost:8080/"
        },
        "id": "e8Dp9aAHxCIi",
        "outputId": "6b38f1bc-ecea-4bd1-a3c7-c9eb518b7b4a"
      },
      "execution_count": 2,
      "outputs": [
        {
          "output_type": "stream",
          "name": "stdout",
          "text": [
            "--2022-12-04 20:27:42--  https://cups.online/api_v2/task/1417/177\n",
            "Resolving cups.online (cups.online)... 188.93.56.95\n",
            "Connecting to cups.online (cups.online)|188.93.56.95|:443... connected.\n",
            "HTTP request sent, awaiting response... 200 OK\n",
            "Length: 27995145 (27M) [text/csv]\n",
            "Saving to: ‘177’\n",
            "\n",
            "177                 100%[===================>]  26.70M  10.4MB/s    in 2.6s    \n",
            "\n",
            "2022-12-04 20:27:46 (10.4 MB/s) - ‘177’ saved [27995145/27995145]\n",
            "\n"
          ]
        }
      ]
    },
    {
      "cell_type": "markdown",
      "metadata": {
        "id": "twIxmW6-wnR3"
      },
      "source": [
        "Отобразим датасет"
      ]
    },
    {
      "cell_type": "code",
      "execution_count": 34,
      "metadata": {
        "colab": {
          "base_uri": "https://localhost:8080/",
          "height": 424
        },
        "id": "gpY4HprfwnR6",
        "outputId": "81952c8c-39ae-4f26-b089-013f084599fb"
      },
      "outputs": [
        {
          "output_type": "execute_result",
          "data": {
            "text/plain": [
              "                                                    text      category\n",
              "0      Волшебные фото Виктория Поплавская ЕвгенияМедв...  winter_sport\n",
              "1      Возвращение в подземелье Треша 33 Эйфория тупо...       extreme\n",
              "2      Лучшие чешские вратари – Доминик Доминатор Гаш...      football\n",
              "3      Rtokenoid Warhammer40k валрак решил нас подкор...    boardgames\n",
              "4      Шестеркин затаскивает Рейнджерс в финал Восточ...        hockey\n",
              "...                                                  ...           ...\n",
              "38735  8 битная буря снова накрыла пикселями автомоби...     autosport\n",
              "38736  Ира Сидоркова объясняет как сказалась на ее ма...     autosport\n",
              "38737  24 я ракетка мира хорват Марин Чилич обыграл и...        tennis\n",
              "38738  Стал известен календарь мужской сборной России...    volleyball\n",
              "38739  Первенство ВХЛ. Первый этап Динамо Алтай Бн ЦС...        hockey\n",
              "\n",
              "[38740 rows x 2 columns]"
            ],
            "text/html": [
              "\n",
              "  <div id=\"df-70601cfd-2360-441c-98be-4da0f3c59ef4\">\n",
              "    <div class=\"colab-df-container\">\n",
              "      <div>\n",
              "<style scoped>\n",
              "    .dataframe tbody tr th:only-of-type {\n",
              "        vertical-align: middle;\n",
              "    }\n",
              "\n",
              "    .dataframe tbody tr th {\n",
              "        vertical-align: top;\n",
              "    }\n",
              "\n",
              "    .dataframe thead th {\n",
              "        text-align: right;\n",
              "    }\n",
              "</style>\n",
              "<table border=\"1\" class=\"dataframe\">\n",
              "  <thead>\n",
              "    <tr style=\"text-align: right;\">\n",
              "      <th></th>\n",
              "      <th>text</th>\n",
              "      <th>category</th>\n",
              "    </tr>\n",
              "  </thead>\n",
              "  <tbody>\n",
              "    <tr>\n",
              "      <th>0</th>\n",
              "      <td>Волшебные фото Виктория Поплавская ЕвгенияМедв...</td>\n",
              "      <td>winter_sport</td>\n",
              "    </tr>\n",
              "    <tr>\n",
              "      <th>1</th>\n",
              "      <td>Возвращение в подземелье Треша 33 Эйфория тупо...</td>\n",
              "      <td>extreme</td>\n",
              "    </tr>\n",
              "    <tr>\n",
              "      <th>2</th>\n",
              "      <td>Лучшие чешские вратари – Доминик Доминатор Гаш...</td>\n",
              "      <td>football</td>\n",
              "    </tr>\n",
              "    <tr>\n",
              "      <th>3</th>\n",
              "      <td>Rtokenoid Warhammer40k валрак решил нас подкор...</td>\n",
              "      <td>boardgames</td>\n",
              "    </tr>\n",
              "    <tr>\n",
              "      <th>4</th>\n",
              "      <td>Шестеркин затаскивает Рейнджерс в финал Восточ...</td>\n",
              "      <td>hockey</td>\n",
              "    </tr>\n",
              "    <tr>\n",
              "      <th>...</th>\n",
              "      <td>...</td>\n",
              "      <td>...</td>\n",
              "    </tr>\n",
              "    <tr>\n",
              "      <th>38735</th>\n",
              "      <td>8 битная буря снова накрыла пикселями автомоби...</td>\n",
              "      <td>autosport</td>\n",
              "    </tr>\n",
              "    <tr>\n",
              "      <th>38736</th>\n",
              "      <td>Ира Сидоркова объясняет как сказалась на ее ма...</td>\n",
              "      <td>autosport</td>\n",
              "    </tr>\n",
              "    <tr>\n",
              "      <th>38737</th>\n",
              "      <td>24 я ракетка мира хорват Марин Чилич обыграл и...</td>\n",
              "      <td>tennis</td>\n",
              "    </tr>\n",
              "    <tr>\n",
              "      <th>38738</th>\n",
              "      <td>Стал известен календарь мужской сборной России...</td>\n",
              "      <td>volleyball</td>\n",
              "    </tr>\n",
              "    <tr>\n",
              "      <th>38739</th>\n",
              "      <td>Первенство ВХЛ. Первый этап Динамо Алтай Бн ЦС...</td>\n",
              "      <td>hockey</td>\n",
              "    </tr>\n",
              "  </tbody>\n",
              "</table>\n",
              "<p>38740 rows × 2 columns</p>\n",
              "</div>\n",
              "      <button class=\"colab-df-convert\" onclick=\"convertToInteractive('df-70601cfd-2360-441c-98be-4da0f3c59ef4')\"\n",
              "              title=\"Convert this dataframe to an interactive table.\"\n",
              "              style=\"display:none;\">\n",
              "        \n",
              "  <svg xmlns=\"http://www.w3.org/2000/svg\" height=\"24px\"viewBox=\"0 0 24 24\"\n",
              "       width=\"24px\">\n",
              "    <path d=\"M0 0h24v24H0V0z\" fill=\"none\"/>\n",
              "    <path d=\"M18.56 5.44l.94 2.06.94-2.06 2.06-.94-2.06-.94-.94-2.06-.94 2.06-2.06.94zm-11 1L8.5 8.5l.94-2.06 2.06-.94-2.06-.94L8.5 2.5l-.94 2.06-2.06.94zm10 10l.94 2.06.94-2.06 2.06-.94-2.06-.94-.94-2.06-.94 2.06-2.06.94z\"/><path d=\"M17.41 7.96l-1.37-1.37c-.4-.4-.92-.59-1.43-.59-.52 0-1.04.2-1.43.59L10.3 9.45l-7.72 7.72c-.78.78-.78 2.05 0 2.83L4 21.41c.39.39.9.59 1.41.59.51 0 1.02-.2 1.41-.59l7.78-7.78 2.81-2.81c.8-.78.8-2.07 0-2.86zM5.41 20L4 18.59l7.72-7.72 1.47 1.35L5.41 20z\"/>\n",
              "  </svg>\n",
              "      </button>\n",
              "      \n",
              "  <style>\n",
              "    .colab-df-container {\n",
              "      display:flex;\n",
              "      flex-wrap:wrap;\n",
              "      gap: 12px;\n",
              "    }\n",
              "\n",
              "    .colab-df-convert {\n",
              "      background-color: #E8F0FE;\n",
              "      border: none;\n",
              "      border-radius: 50%;\n",
              "      cursor: pointer;\n",
              "      display: none;\n",
              "      fill: #1967D2;\n",
              "      height: 32px;\n",
              "      padding: 0 0 0 0;\n",
              "      width: 32px;\n",
              "    }\n",
              "\n",
              "    .colab-df-convert:hover {\n",
              "      background-color: #E2EBFA;\n",
              "      box-shadow: 0px 1px 2px rgba(60, 64, 67, 0.3), 0px 1px 3px 1px rgba(60, 64, 67, 0.15);\n",
              "      fill: #174EA6;\n",
              "    }\n",
              "\n",
              "    [theme=dark] .colab-df-convert {\n",
              "      background-color: #3B4455;\n",
              "      fill: #D2E3FC;\n",
              "    }\n",
              "\n",
              "    [theme=dark] .colab-df-convert:hover {\n",
              "      background-color: #434B5C;\n",
              "      box-shadow: 0px 1px 3px 1px rgba(0, 0, 0, 0.15);\n",
              "      filter: drop-shadow(0px 1px 2px rgba(0, 0, 0, 0.3));\n",
              "      fill: #FFFFFF;\n",
              "    }\n",
              "  </style>\n",
              "\n",
              "      <script>\n",
              "        const buttonEl =\n",
              "          document.querySelector('#df-70601cfd-2360-441c-98be-4da0f3c59ef4 button.colab-df-convert');\n",
              "        buttonEl.style.display =\n",
              "          google.colab.kernel.accessAllowed ? 'block' : 'none';\n",
              "\n",
              "        async function convertToInteractive(key) {\n",
              "          const element = document.querySelector('#df-70601cfd-2360-441c-98be-4da0f3c59ef4');\n",
              "          const dataTable =\n",
              "            await google.colab.kernel.invokeFunction('convertToInteractive',\n",
              "                                                     [key], {});\n",
              "          if (!dataTable) return;\n",
              "\n",
              "          const docLinkHtml = 'Like what you see? Visit the ' +\n",
              "            '<a target=\"_blank\" href=https://colab.research.google.com/notebooks/data_table.ipynb>data table notebook</a>'\n",
              "            + ' to learn more about interactive tables.';\n",
              "          element.innerHTML = '';\n",
              "          dataTable['output_type'] = 'display_data';\n",
              "          await google.colab.output.renderOutput(dataTable, element);\n",
              "          const docLink = document.createElement('div');\n",
              "          docLink.innerHTML = docLinkHtml;\n",
              "          element.appendChild(docLink);\n",
              "        }\n",
              "      </script>\n",
              "    </div>\n",
              "  </div>\n",
              "  "
            ]
          },
          "metadata": {},
          "execution_count": 34
        }
      ],
      "source": [
        "df = pd.read_csv(\"177\")[[\"text\", \"category\"]]\n",
        "df"
      ]
    },
    {
      "cell_type": "code",
      "execution_count": 35,
      "metadata": {
        "colab": {
          "base_uri": "https://localhost:8080/",
          "height": 330
        },
        "id": "JsXnGirBwnR9",
        "outputId": "aebd77d1-648f-400b-d51d-c1f8f10abcdb"
      },
      "outputs": [
        {
          "output_type": "display_data",
          "data": {
            "text/plain": [
              "<Figure size 432x288 with 1 Axes>"
            ],
            "image/png": "[encoded data removed]"
          },
          "metadata": {
            "needs_background": "light"
          }
        }
      ],
      "source": [
        "vcdf = df[\"category\"].value_counts()\n",
        "bplot = sns.barplot(x=vcdf.keys(), y=vcdf.values)\n",
        "_, labels = plt.xticks()\n",
        "plt.setp(labels, rotation=60)\n",
        "plt.title(\"Распределение классов\")\n",
        "plt.show()\n",
        "categories = vcdf.keys()"
      ]
    },
    {
      "cell_type": "markdown",
      "metadata": {
        "id": "5B4uEygwwnR-"
      },
      "source": [
        "Пример текста"
      ]
    },
    {
      "cell_type": "code",
      "execution_count": 5,
      "metadata": {
        "colab": {
          "base_uri": "https://localhost:8080/",
          "height": 53
        },
        "id": "HHkZsqZvwnR_",
        "outputId": "9cdbba50-5340-4b7a-d8d0-17e55eb6df3c"
      },
      "outputs": [
        {
          "output_type": "execute_result",
          "data": {
            "text/plain": [
              "'За кроссовками в Баскетбольный магазин Ghetto Basket Shop Консультация tokenoidtokenoid Стрельский'"
            ],
            "application/vnd.google.colaboratory.intrinsic+json": {
              "type": "string"
            }
          },
          "metadata": {},
          "execution_count": 5
        }
      ],
      "source": [
        "df.loc[1245, \"text\"]"
      ]
    },
    {
      "cell_type": "markdown",
      "metadata": {
        "id": "nzq3jSSSwnSA"
      },
      "source": [
        "Выделим таргеты - классы в отдельную колонку"
      ]
    },
    {
      "cell_type": "code",
      "source": [
        "cats = df[\"category\"].factorize()[1]"
      ],
      "metadata": {
        "id": "j02gKuFy2_qb"
      },
      "execution_count": 42,
      "outputs": []
    },
    {
      "cell_type": "code",
      "execution_count": 6,
      "metadata": {
        "id": "GMK7b4CYwnSB"
      },
      "outputs": [],
      "source": [
        "df[\"category_id\"] = df[\"category\"].factorize()[0]\n",
        "df = df.drop([\"category\"], axis=1)"
      ]
    },
    {
      "cell_type": "markdown",
      "metadata": {
        "id": "uQsy-fYNwnSC"
      },
      "source": [
        "### TF-IDF"
      ]
    },
    {
      "cell_type": "markdown",
      "source": [
        "Используем частотный анализатор. Отсечем часть так как весь словарь занимает много места"
      ],
      "metadata": {
        "id": "idMJLNyX5f5C"
      }
    },
    {
      "cell_type": "code",
      "execution_count": 16,
      "metadata": {
        "colab": {
          "base_uri": "https://localhost:8080/"
        },
        "id": "JNAbv2SwwnSE",
        "outputId": "a294f7fb-4deb-4bba-88da-0ddeef193dcb"
      },
      "outputs": [
        {
          "output_type": "stream",
          "name": "stderr",
          "text": [
            "[nltk_data] Downloading package stopwords to /root/nltk_data...\n",
            "[nltk_data]   Package stopwords is already up-to-date!\n"
          ]
        }
      ],
      "source": [
        "from sklearn.feature_extraction.text import TfidfVectorizer\n",
        "import nltk\n",
        "nltk.download(\"stopwords\")\n",
        "from nltk.corpus import stopwords\n",
        "russian_stopwords = stopwords.words(\"russian\")\n",
        "tfdf = TfidfVectorizer(sublinear_tf=True, min_df=5, \n",
        "                        ngram_range=(1, 2), stop_words=russian_stopwords)\n",
        "features = tfdf.fit_transform(df.text)"
      ]
    },
    {
      "cell_type": "markdown",
      "source": [
        "Разделим датасет на тест и трейн части"
      ],
      "metadata": {
        "id": "D3KByzZa5cpW"
      }
    },
    {
      "cell_type": "code",
      "execution_count": 30,
      "metadata": {
        "id": "HIg7eJlqwnSG"
      },
      "outputs": [],
      "source": [
        "import numpy as np\n",
        "t = 7000\n",
        "X = features[:t].toarray().astype(np.float16)\n",
        "y = df.category_id[:t]\n",
        "from sklearn.model_selection import train_test_split\n",
        "X_train, X_test, y_train, y_test = train_test_split(X, y, \n",
        "                                                    test_size=0.25,\n",
        "                                                    random_state = 0)"
      ]
    },
    {
      "cell_type": "markdown",
      "source": [
        "Проведем 5 кросс валидацию на 4 моделях"
      ],
      "metadata": {
        "id": "ypA6r5OQ5Xi0"
      }
    },
    {
      "cell_type": "code",
      "source": [
        "\n",
        "from sklearn.svm import LinearSVC\n",
        "from sklearn.naive_bayes import MultinomialNB\n",
        "from sklearn.ensemble import RandomForestClassifier\n",
        "from sklearn.linear_model import LogisticRegression\n",
        "from sklearn.model_selection import cross_val_score\n",
        "models = [\n",
        "    RandomForestClassifier(n_estimators=100, max_depth=5),\n",
        "    LinearSVC(),\n",
        "    MultinomialNB(),\n",
        "    LogisticRegression(random_state=0),\n",
        "]\n",
        "entries = []\n",
        "for clf in models:\n",
        "    model_name = clf.__class__.__name__\n",
        "    accuracy = cross_val_score(clf, X, y, cv=5)\n",
        "    for fold_idx, acc_score in enumerate(accuracy):\n",
        "        entries.append((model_name, fold_idx, acc_score))\n",
        "cv_df = pd.DataFrame(entries, columns=[\"model_name\", \"Fold N\", \"accuracy\"])\n",
        "mean_accuracy = cv_df.groupby('model_name').accuracy.mean()\n",
        "std_accuracy = cv_df.groupby('model_name').accuracy.std()\n",
        "\n",
        "acc = pd.concat([mean_accuracy, std_accuracy], axis= 1, \n",
        "          ignore_index=True)\n",
        "acc.columns = ['Mean Accuracy', 'Standard deviation']\n",
        "acc"
      ],
      "metadata": {
        "id": "EGvp-xTgxx0b"
      },
      "execution_count": null,
      "outputs": []
    },
    {
      "cell_type": "markdown",
      "source": [
        "Получаем точность модели - 0.796"
      ],
      "metadata": {
        "id": "Ytw0Yk2B5KYK"
      }
    },
    {
      "cell_type": "code",
      "source": [
        "from sklearn.svm import LinearSVC\n",
        "clf = LinearSVC()\n",
        "clf.fit(X_train, y_train)\n",
        "clf.score(X_test, y_test)"
      ],
      "metadata": {
        "colab": {
          "base_uri": "https://localhost:8080/"
        },
        "id": "b9hNOM4Gz8Th",
        "outputId": "bb732638-627d-44f7-ab5e-ecf4cafa49c1"
      },
      "execution_count": 31,
      "outputs": [
        {
          "output_type": "execute_result",
          "data": {
            "text/plain": [
              "0.796"
            ]
          },
          "metadata": {},
          "execution_count": 31
        }
      ]
    },
    {
      "cell_type": "code",
      "source": [
        "!wget https://cups.online/api_v2/task/1417/178 -O test.csv\n"
      ],
      "metadata": {
        "colab": {
          "base_uri": "https://localhost:8080/"
        },
        "id": "OW8Umh5-1ttk",
        "outputId": "901fe4dc-5f03-4893-a7be-3c52fc15c93b"
      },
      "execution_count": 32,
      "outputs": [
        {
          "output_type": "stream",
          "name": "stdout",
          "text": [
            "--2022-12-04 20:32:44--  https://cups.online/api_v2/task/1417/178\n",
            "Resolving cups.online (cups.online)... 188.93.56.95\n",
            "Connecting to cups.online (cups.online)|188.93.56.95|:443... connected.\n",
            "HTTP request sent, awaiting response... 200 OK\n",
            "Length: 18933519 (18M) [text/csv]\n",
            "Saving to: ‘test.csv’\n",
            "\n",
            "test.csv            100%[===================>]  18.06M  9.62MB/s    in 1.9s    \n",
            "\n",
            "2022-12-04 20:32:47 (9.62 MB/s) - ‘test.csv’ saved [18933519/18933519]\n",
            "\n"
          ]
        }
      ]
    },
    {
      "cell_type": "markdown",
      "source": [
        "Применим модель к тестовым данным"
      ],
      "metadata": {
        "id": "pB3mHjl75EQ3"
      }
    },
    {
      "cell_type": "code",
      "source": [
        "df_test = pd.read_csv(\"test.csv\")\n",
        "tfidf_vectorizer_vectors = tfdf.transform(df_test.text)\n",
        "y_pred = clf.predict(tfidf_vectorizer_vectors)\n",
        "res = []\n",
        "for i in range(len(y_pred)):\n",
        "  oid = df_test.loc[i, \"oid\"]\n",
        "  res.append((oid, cats[y_pred[i]]))\n",
        "df_result = pd.DataFrame(res, index = None, columns=[\"oid\", \"category\"])\n",
        "df_result.to_csv(\"test_result.csv\", index=False)"
      ],
      "metadata": {
        "id": "h45Xm1E_1bWF"
      },
      "execution_count": 53,
      "outputs": []
    }
  ],
  "metadata": {
    "kernelspec": {
      "display_name": "Python 3.10.5 64-bit",
      "language": "python",
      "name": "python3"
    },
    "language_info": {
      "codemirror_mode": {
        "name": "ipython",
        "version": 3
      },
      "file_extension": ".py",
      "mimetype": "text/x-python",
      "name": "python",
      "nbconvert_exporter": "python",
      "pygments_lexer": "ipython3",
      "version": "3.10.5"
    },
    "orig_nbformat": 4,
    "vscode": {
      "interpreter": {
        "hash": "369f2c481f4da34e4445cda3fffd2e751bd1c4d706f27375911949ba6bb62e1c"
      }
    },
    "colab": {
      "provenance": [],
      "include_colab_link": true
    },
    "accelerator": "GPU",
    "gpuClass": "standard"
  },
  "nbformat": 4,
  "nbformat_minor": 0
}